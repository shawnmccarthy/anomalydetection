{
 "cells": [
  {
   "cell_type": "code",
   "execution_count": 1,
   "metadata": {},
   "outputs": [
    {
     "name": "stdout",
     "output_type": "stream",
     "text": [
      "Python:  3.9.0 (default, Nov  8 2020, 11:02:52) \n",
      "[Clang 12.0.0 (clang-1200.0.32.21)]\n",
      "pandas:  1.2.3\n",
      "numpy:  1.19.4\n",
      "seaborn:  0.11.1\n",
      "matplotlib:  3.3.4\n",
      "sklearn:  0.24.2\n",
      "Keras:  2.6.0\n",
      "Tensorflow:  2.6.0\n"
     ]
    }
   ],
   "source": [
    "import numpy as np\n",
    "import pandas as pd\n",
    "from tensorflow.keras import regularizers, optimizers\n",
    "from tensorflow.keras.layers import Input, Conv1D, Dense, Flatten, Activation, SpatialDropout1D, UpSampling1D, MaxPooling1D, ZeroPadding1D\n",
    "from tensorflow.keras.callbacks import ModelCheckpoint, TensorBoard\n",
    "from tensorflow.keras.models import Model, load_model\n",
    "from tensorflow.keras.utils import to_categorical\n",
    "\n",
    "import sklearn\n",
    "from sklearn.preprocessing import StandardScaler, MinMaxScaler\n",
    "from sklearn.model_selection import train_test_split\n",
    "from sklearn.metrics import confusion_matrix, roc_auc_score, roc_curve\n",
    "from sklearn.metrics import classification_report\n",
    "\n",
    "import seaborn as sns\n",
    "import pandas as pd\n",
    "import numpy as np\n",
    "import matplotlib\n",
    "\n",
    "import matplotlib.pyplot as plt\n",
    "import matplotlib.gridspec as gridspec\n",
    "%matplotlib inline\n",
    "\n",
    "import tensorflow\n",
    "import sys\n",
    "print(\"Python: \", sys.version)\n",
    "\n",
    "print(\"pandas: \", pd.__version__)\n",
    "print(\"numpy: \", np.__version__)\n",
    "print(\"seaborn: \", sns.__version__)\n",
    "print(\"matplotlib: \", matplotlib.__version__)\n",
    "print(\"sklearn: \", sklearn.__version__)\n",
    "print(\"Keras: \", tensorflow.keras.__version__)\n",
    "print(\"Tensorflow: \", tensorflow.__version__)\n"
   ]
  },
  {
   "cell_type": "code",
   "execution_count": 2,
   "metadata": {
    "pycharm": {
     "name": "#%%\n"
    }
   },
   "outputs": [],
   "source": [
    "class Visualization:\n",
    "    labels = [\"Normal\", \"Anomaly\"]\n",
    "\n",
    "    def draw_confusion_matrix(self, y, ypred):\n",
    "        matrix = confusion_matrix(y, ypred)\n",
    "\n",
    "        plt.figure(figsize=(10, 8))\n",
    "        colors=[ \"orange\",\"green\"]\n",
    "        sns.heatmap(matrix, xticklabels=self.labels, yticklabels=self.labels, cmap=colors, annot=True, fmt=\"d\")\n",
    "        plt.title(\"Confusion Matrix\")\n",
    "        plt.ylabel('Actual')\n",
    "        plt.xlabel('Predicted')\n",
    "        plt.show()\n",
    "\n",
    "\n",
    "    def draw_anomaly(self, y, error, threshold):\n",
    "        groupsDF = pd.DataFrame({'error': error,\n",
    "                                 'true': y}).groupby('true')\n",
    "\n",
    "        figure, axes = plt.subplots(figsize=(12, 8))\n",
    "\n",
    "        for name, group in groupsDF:\n",
    "            axes.plot(group.index, group.error, marker='x' if name == 1 else 'o', linestyle='',\n",
    "                    color='r' if name == 1 else 'g', label=\"Anomaly\" if name == 1 else \"Normal\")\n",
    "\n",
    "        axes.hlines(threshold, axes.get_xlim()[0], axes.get_xlim()[1], colors=\"b\", zorder=100, label='Threshold')\n",
    "        axes.legend()\n",
    "\n",
    "        plt.title(\"Anomalies\")\n",
    "        plt.ylabel(\"Error\")\n",
    "        plt.xlabel(\"Data\")\n",
    "        plt.show()\n",
    "\n",
    "    def draw_error(self, error, threshold):\n",
    "            plt.plot(error, marker='o', ms=3.5, linestyle='',\n",
    "                     label='Point')\n",
    "\n",
    "            plt.hlines(threshold, xmin=0, xmax=len(error)-1, colors=\"b\", zorder=100, label='Threshold')\n",
    "            plt.legend()\n",
    "            plt.title(\"Reconstruction error\")\n",
    "            plt.ylabel(\"Error\")\n",
    "            plt.xlabel(\"Data\")\n",
    "            plt.show()\n"
   ]
  },
  {
   "cell_type": "code",
   "execution_count": 3,
   "metadata": {
    "pycharm": {
     "name": "#%%\n"
    }
   },
   "outputs": [],
   "source": [
    "def normalize(df):\n",
    "    \"\"\"Normalize the DF using min/max\"\"\"\n",
    "    scaler = MinMaxScaler(feature_range=(-1, 1))\n",
    "    dates_scaled = scaler.fit_transform(df['Date'].values.reshape(-1, 1))\n",
    "\n",
    "    return dates_scaled\n",
    "\n",
    "def std_normalize(columns, df):\n",
    "    \"\"\"Normalize the DF using min/max\"\"\"\n",
    "    for column in columns:\n",
    "        scaler = StandardScaler()\n",
    "        df[column]= scaler.fit_transform(df[column].values.reshape(-1, 1))"
   ]
  },
  {
   "cell_type": "code",
   "execution_count": 4,
   "metadata": {
    "pycharm": {
     "name": "#%%\n"
    }
   },
   "outputs": [
    {
     "name": "stdout",
     "output_type": "stream",
     "text": [
      "tensorlog:  creditcard\n",
      "dataFilePath:  data/creditcard.csv\n",
      "(284807, 31)\n"
     ]
    },
    {
     "data": {
      "text/html": [
       "<div>\n",
       "<style scoped>\n",
       "    .dataframe tbody tr th:only-of-type {\n",
       "        vertical-align: middle;\n",
       "    }\n",
       "\n",
       "    .dataframe tbody tr th {\n",
       "        vertical-align: top;\n",
       "    }\n",
       "\n",
       "    .dataframe thead th {\n",
       "        text-align: right;\n",
       "    }\n",
       "</style>\n",
       "<table border=\"1\" class=\"dataframe\">\n",
       "  <thead>\n",
       "    <tr style=\"text-align: right;\">\n",
       "      <th></th>\n",
       "      <th>Time</th>\n",
       "      <th>V1</th>\n",
       "      <th>V2</th>\n",
       "      <th>V3</th>\n",
       "      <th>V4</th>\n",
       "      <th>V5</th>\n",
       "      <th>V6</th>\n",
       "      <th>V7</th>\n",
       "      <th>V8</th>\n",
       "      <th>V9</th>\n",
       "      <th>...</th>\n",
       "      <th>V21</th>\n",
       "      <th>V22</th>\n",
       "      <th>V23</th>\n",
       "      <th>V24</th>\n",
       "      <th>V25</th>\n",
       "      <th>V26</th>\n",
       "      <th>V27</th>\n",
       "      <th>V28</th>\n",
       "      <th>Amount</th>\n",
       "      <th>Class</th>\n",
       "    </tr>\n",
       "  </thead>\n",
       "  <tbody>\n",
       "    <tr>\n",
       "      <th>0</th>\n",
       "      <td>0.0</td>\n",
       "      <td>-1.359807</td>\n",
       "      <td>-0.072781</td>\n",
       "      <td>2.536347</td>\n",
       "      <td>1.378155</td>\n",
       "      <td>-0.338321</td>\n",
       "      <td>0.462388</td>\n",
       "      <td>0.239599</td>\n",
       "      <td>0.098698</td>\n",
       "      <td>0.363787</td>\n",
       "      <td>...</td>\n",
       "      <td>-0.018307</td>\n",
       "      <td>0.277838</td>\n",
       "      <td>-0.110474</td>\n",
       "      <td>0.066928</td>\n",
       "      <td>0.128539</td>\n",
       "      <td>-0.189115</td>\n",
       "      <td>0.133558</td>\n",
       "      <td>-0.021053</td>\n",
       "      <td>149.62</td>\n",
       "      <td>0</td>\n",
       "    </tr>\n",
       "    <tr>\n",
       "      <th>1</th>\n",
       "      <td>0.0</td>\n",
       "      <td>1.191857</td>\n",
       "      <td>0.266151</td>\n",
       "      <td>0.166480</td>\n",
       "      <td>0.448154</td>\n",
       "      <td>0.060018</td>\n",
       "      <td>-0.082361</td>\n",
       "      <td>-0.078803</td>\n",
       "      <td>0.085102</td>\n",
       "      <td>-0.255425</td>\n",
       "      <td>...</td>\n",
       "      <td>-0.225775</td>\n",
       "      <td>-0.638672</td>\n",
       "      <td>0.101288</td>\n",
       "      <td>-0.339846</td>\n",
       "      <td>0.167170</td>\n",
       "      <td>0.125895</td>\n",
       "      <td>-0.008983</td>\n",
       "      <td>0.014724</td>\n",
       "      <td>2.69</td>\n",
       "      <td>0</td>\n",
       "    </tr>\n",
       "    <tr>\n",
       "      <th>2</th>\n",
       "      <td>1.0</td>\n",
       "      <td>-1.358354</td>\n",
       "      <td>-1.340163</td>\n",
       "      <td>1.773209</td>\n",
       "      <td>0.379780</td>\n",
       "      <td>-0.503198</td>\n",
       "      <td>1.800499</td>\n",
       "      <td>0.791461</td>\n",
       "      <td>0.247676</td>\n",
       "      <td>-1.514654</td>\n",
       "      <td>...</td>\n",
       "      <td>0.247998</td>\n",
       "      <td>0.771679</td>\n",
       "      <td>0.909412</td>\n",
       "      <td>-0.689281</td>\n",
       "      <td>-0.327642</td>\n",
       "      <td>-0.139097</td>\n",
       "      <td>-0.055353</td>\n",
       "      <td>-0.059752</td>\n",
       "      <td>378.66</td>\n",
       "      <td>0</td>\n",
       "    </tr>\n",
       "    <tr>\n",
       "      <th>3</th>\n",
       "      <td>1.0</td>\n",
       "      <td>-0.966272</td>\n",
       "      <td>-0.185226</td>\n",
       "      <td>1.792993</td>\n",
       "      <td>-0.863291</td>\n",
       "      <td>-0.010309</td>\n",
       "      <td>1.247203</td>\n",
       "      <td>0.237609</td>\n",
       "      <td>0.377436</td>\n",
       "      <td>-1.387024</td>\n",
       "      <td>...</td>\n",
       "      <td>-0.108300</td>\n",
       "      <td>0.005274</td>\n",
       "      <td>-0.190321</td>\n",
       "      <td>-1.175575</td>\n",
       "      <td>0.647376</td>\n",
       "      <td>-0.221929</td>\n",
       "      <td>0.062723</td>\n",
       "      <td>0.061458</td>\n",
       "      <td>123.50</td>\n",
       "      <td>0</td>\n",
       "    </tr>\n",
       "    <tr>\n",
       "      <th>4</th>\n",
       "      <td>2.0</td>\n",
       "      <td>-1.158233</td>\n",
       "      <td>0.877737</td>\n",
       "      <td>1.548718</td>\n",
       "      <td>0.403034</td>\n",
       "      <td>-0.407193</td>\n",
       "      <td>0.095921</td>\n",
       "      <td>0.592941</td>\n",
       "      <td>-0.270533</td>\n",
       "      <td>0.817739</td>\n",
       "      <td>...</td>\n",
       "      <td>-0.009431</td>\n",
       "      <td>0.798278</td>\n",
       "      <td>-0.137458</td>\n",
       "      <td>0.141267</td>\n",
       "      <td>-0.206010</td>\n",
       "      <td>0.502292</td>\n",
       "      <td>0.219422</td>\n",
       "      <td>0.215153</td>\n",
       "      <td>69.99</td>\n",
       "      <td>0</td>\n",
       "    </tr>\n",
       "  </tbody>\n",
       "</table>\n",
       "<p>5 rows × 31 columns</p>\n",
       "</div>"
      ],
      "text/plain": [
       "   Time        V1        V2        V3        V4        V5        V6        V7  \\\n",
       "0   0.0 -1.359807 -0.072781  2.536347  1.378155 -0.338321  0.462388  0.239599   \n",
       "1   0.0  1.191857  0.266151  0.166480  0.448154  0.060018 -0.082361 -0.078803   \n",
       "2   1.0 -1.358354 -1.340163  1.773209  0.379780 -0.503198  1.800499  0.791461   \n",
       "3   1.0 -0.966272 -0.185226  1.792993 -0.863291 -0.010309  1.247203  0.237609   \n",
       "4   2.0 -1.158233  0.877737  1.548718  0.403034 -0.407193  0.095921  0.592941   \n",
       "\n",
       "         V8        V9  ...       V21       V22       V23       V24       V25  \\\n",
       "0  0.098698  0.363787  ... -0.018307  0.277838 -0.110474  0.066928  0.128539   \n",
       "1  0.085102 -0.255425  ... -0.225775 -0.638672  0.101288 -0.339846  0.167170   \n",
       "2  0.247676 -1.514654  ...  0.247998  0.771679  0.909412 -0.689281 -0.327642   \n",
       "3  0.377436 -1.387024  ... -0.108300  0.005274 -0.190321 -1.175575  0.647376   \n",
       "4 -0.270533  0.817739  ... -0.009431  0.798278 -0.137458  0.141267 -0.206010   \n",
       "\n",
       "        V26       V27       V28  Amount  Class  \n",
       "0 -0.189115  0.133558 -0.021053  149.62      0  \n",
       "1  0.125895 -0.008983  0.014724    2.69      0  \n",
       "2 -0.139097 -0.055353 -0.059752  378.66      0  \n",
       "3 -0.221929  0.062723  0.061458  123.50      0  \n",
       "4  0.502292  0.219422  0.215153   69.99      0  \n",
       "\n",
       "[5 rows x 31 columns]"
      ]
     },
     "execution_count": 4,
     "metadata": {},
     "output_type": "execute_result"
    }
   ],
   "source": [
    "tensorlogs = [\"creditcard\",\n",
    "              \"CombinedMacroSectorv4\"] #2\n",
    "\n",
    "dataFilePaths = ['data/creditcard.csv',\n",
    "                 'data/CombinedMacroSectorv4.csv']\n",
    "\n",
    "colPlots = ['Amount',\n",
    "            'Real Estate']\n",
    "\n",
    "i=0\n",
    "col = colPlots[i]\n",
    "\n",
    "tensorlog = tensorlogs[i]\n",
    "dataFilePath = dataFilePaths[i]\n",
    "print(\"tensorlog: \", tensorlog)\n",
    "print(\"dataFilePath: \", dataFilePath)\n",
    "\n",
    "missing_values = [\"n/a\", \"na\", \"NaN\", \"--\", \"null\"]\n",
    "df = pd.read_csv(dataFilePath, sep=\",\", na_values = missing_values, index_col=None)\n",
    "print(df.shape)\n",
    "df.head()"
   ]
  },
  {
   "cell_type": "code",
   "execution_count": 5,
   "metadata": {
    "pycharm": {
     "name": "#%%\n"
    }
   },
   "outputs": [
    {
     "data": {
      "text/plain": [
       "Time      float64\n",
       "V1        float64\n",
       "V2        float64\n",
       "V3        float64\n",
       "V4        float64\n",
       "V5        float64\n",
       "V6        float64\n",
       "V7        float64\n",
       "V8        float64\n",
       "V9        float64\n",
       "V10       float64\n",
       "V11       float64\n",
       "V12       float64\n",
       "V13       float64\n",
       "V14       float64\n",
       "V15       float64\n",
       "V16       float64\n",
       "V17       float64\n",
       "V18       float64\n",
       "V19       float64\n",
       "V20       float64\n",
       "V21       float64\n",
       "V22       float64\n",
       "V23       float64\n",
       "V24       float64\n",
       "V25       float64\n",
       "V26       float64\n",
       "V27       float64\n",
       "V28       float64\n",
       "Amount    float64\n",
       "Class       int64\n",
       "dtype: object"
      ]
     },
     "execution_count": 5,
     "metadata": {},
     "output_type": "execute_result"
    }
   ],
   "source": [
    "df.dtypes"
   ]
  },
  {
   "cell_type": "code",
   "execution_count": 6,
   "metadata": {
    "pycharm": {
     "name": "#%%\n"
    }
   },
   "outputs": [],
   "source": [
    "if i == 0:\n",
    "    df['Amount'] = StandardScaler().fit_transform(df['Amount'].values.reshape(-1, 1))\n",
    "    df['Time'] = StandardScaler().fit_transform(df['Time'].values.reshape(-1, 1))\n",
    "else:\n",
    "    df['Date'] = pd.to_datetime(df['Date'])\n",
    "    df['Time'] = normalize(df)\n",
    "    df['Class'] = df['Recession']\n",
    "    std_normalize([\"Oil\", \"Inflation\", \"CPI\", \"Dollar Index\", \"GDP\", \"Unemployment\", \"Energy\", \"Gold\",\n",
    "    \"Materials\", \"Industrials\", \"Customer Discretionary\", \"Consumer Staples\", \"Health\",\n",
    "    \"Financials\", \"Technology\", \"Telecommunications\", \"Utilities\", \"Real Estate\", \"Spy\"], df)\n",
    "    df.drop(['Date'], axis=1, inplace=True)\n",
    "    df.drop(['Cycle'], axis=1, inplace=True)\n",
    "    df.drop(['Gold'], axis=1, inplace=True)"
   ]
  },
  {
   "cell_type": "code",
   "execution_count": 7,
   "metadata": {
    "pycharm": {
     "name": "#%%\n"
    }
   },
   "outputs": [
    {
     "data": {
      "text/plain": [
       "Time      float64\n",
       "V1        float64\n",
       "V2        float64\n",
       "V3        float64\n",
       "V4        float64\n",
       "V5        float64\n",
       "V6        float64\n",
       "V7        float64\n",
       "V8        float64\n",
       "V9        float64\n",
       "V10       float64\n",
       "V11       float64\n",
       "V12       float64\n",
       "V13       float64\n",
       "V14       float64\n",
       "V15       float64\n",
       "V16       float64\n",
       "V17       float64\n",
       "V18       float64\n",
       "V19       float64\n",
       "V20       float64\n",
       "V21       float64\n",
       "V22       float64\n",
       "V23       float64\n",
       "V24       float64\n",
       "V25       float64\n",
       "V26       float64\n",
       "V27       float64\n",
       "V28       float64\n",
       "Amount    float64\n",
       "Class       int64\n",
       "dtype: object"
      ]
     },
     "execution_count": 7,
     "metadata": {},
     "output_type": "execute_result"
    }
   ],
   "source": [
    "df.dtypes"
   ]
  },
  {
   "cell_type": "code",
   "execution_count": 8,
   "metadata": {
    "pycharm": {
     "name": "#%%\n"
    }
   },
   "outputs": [
    {
     "data": {
      "text/html": [
       "<div>\n",
       "<style scoped>\n",
       "    .dataframe tbody tr th:only-of-type {\n",
       "        vertical-align: middle;\n",
       "    }\n",
       "\n",
       "    .dataframe tbody tr th {\n",
       "        vertical-align: top;\n",
       "    }\n",
       "\n",
       "    .dataframe thead th {\n",
       "        text-align: right;\n",
       "    }\n",
       "</style>\n",
       "<table border=\"1\" class=\"dataframe\">\n",
       "  <thead>\n",
       "    <tr style=\"text-align: right;\">\n",
       "      <th></th>\n",
       "      <th>Time</th>\n",
       "      <th>V1</th>\n",
       "      <th>V2</th>\n",
       "      <th>V3</th>\n",
       "      <th>V4</th>\n",
       "      <th>V5</th>\n",
       "      <th>V6</th>\n",
       "      <th>V7</th>\n",
       "      <th>V8</th>\n",
       "      <th>V9</th>\n",
       "      <th>...</th>\n",
       "      <th>V21</th>\n",
       "      <th>V22</th>\n",
       "      <th>V23</th>\n",
       "      <th>V24</th>\n",
       "      <th>V25</th>\n",
       "      <th>V26</th>\n",
       "      <th>V27</th>\n",
       "      <th>V28</th>\n",
       "      <th>Amount</th>\n",
       "      <th>Class</th>\n",
       "    </tr>\n",
       "  </thead>\n",
       "  <tbody>\n",
       "    <tr>\n",
       "      <th>284802</th>\n",
       "      <td>1.641931</td>\n",
       "      <td>-11.881118</td>\n",
       "      <td>10.071785</td>\n",
       "      <td>-9.834783</td>\n",
       "      <td>-2.066656</td>\n",
       "      <td>-5.364473</td>\n",
       "      <td>-2.606837</td>\n",
       "      <td>-4.918215</td>\n",
       "      <td>7.305334</td>\n",
       "      <td>1.914428</td>\n",
       "      <td>...</td>\n",
       "      <td>0.213454</td>\n",
       "      <td>0.111864</td>\n",
       "      <td>1.014480</td>\n",
       "      <td>-0.509348</td>\n",
       "      <td>1.436807</td>\n",
       "      <td>0.250034</td>\n",
       "      <td>0.943651</td>\n",
       "      <td>0.823731</td>\n",
       "      <td>-0.350151</td>\n",
       "      <td>0</td>\n",
       "    </tr>\n",
       "    <tr>\n",
       "      <th>284803</th>\n",
       "      <td>1.641952</td>\n",
       "      <td>-0.732789</td>\n",
       "      <td>-0.055080</td>\n",
       "      <td>2.035030</td>\n",
       "      <td>-0.738589</td>\n",
       "      <td>0.868229</td>\n",
       "      <td>1.058415</td>\n",
       "      <td>0.024330</td>\n",
       "      <td>0.294869</td>\n",
       "      <td>0.584800</td>\n",
       "      <td>...</td>\n",
       "      <td>0.214205</td>\n",
       "      <td>0.924384</td>\n",
       "      <td>0.012463</td>\n",
       "      <td>-1.016226</td>\n",
       "      <td>-0.606624</td>\n",
       "      <td>-0.395255</td>\n",
       "      <td>0.068472</td>\n",
       "      <td>-0.053527</td>\n",
       "      <td>-0.254117</td>\n",
       "      <td>0</td>\n",
       "    </tr>\n",
       "    <tr>\n",
       "      <th>284804</th>\n",
       "      <td>1.641974</td>\n",
       "      <td>1.919565</td>\n",
       "      <td>-0.301254</td>\n",
       "      <td>-3.249640</td>\n",
       "      <td>-0.557828</td>\n",
       "      <td>2.630515</td>\n",
       "      <td>3.031260</td>\n",
       "      <td>-0.296827</td>\n",
       "      <td>0.708417</td>\n",
       "      <td>0.432454</td>\n",
       "      <td>...</td>\n",
       "      <td>0.232045</td>\n",
       "      <td>0.578229</td>\n",
       "      <td>-0.037501</td>\n",
       "      <td>0.640134</td>\n",
       "      <td>0.265745</td>\n",
       "      <td>-0.087371</td>\n",
       "      <td>0.004455</td>\n",
       "      <td>-0.026561</td>\n",
       "      <td>-0.081839</td>\n",
       "      <td>0</td>\n",
       "    </tr>\n",
       "    <tr>\n",
       "      <th>284805</th>\n",
       "      <td>1.641974</td>\n",
       "      <td>-0.240440</td>\n",
       "      <td>0.530483</td>\n",
       "      <td>0.702510</td>\n",
       "      <td>0.689799</td>\n",
       "      <td>-0.377961</td>\n",
       "      <td>0.623708</td>\n",
       "      <td>-0.686180</td>\n",
       "      <td>0.679145</td>\n",
       "      <td>0.392087</td>\n",
       "      <td>...</td>\n",
       "      <td>0.265245</td>\n",
       "      <td>0.800049</td>\n",
       "      <td>-0.163298</td>\n",
       "      <td>0.123205</td>\n",
       "      <td>-0.569159</td>\n",
       "      <td>0.546668</td>\n",
       "      <td>0.108821</td>\n",
       "      <td>0.104533</td>\n",
       "      <td>-0.313249</td>\n",
       "      <td>0</td>\n",
       "    </tr>\n",
       "    <tr>\n",
       "      <th>284806</th>\n",
       "      <td>1.642058</td>\n",
       "      <td>-0.533413</td>\n",
       "      <td>-0.189733</td>\n",
       "      <td>0.703337</td>\n",
       "      <td>-0.506271</td>\n",
       "      <td>-0.012546</td>\n",
       "      <td>-0.649617</td>\n",
       "      <td>1.577006</td>\n",
       "      <td>-0.414650</td>\n",
       "      <td>0.486180</td>\n",
       "      <td>...</td>\n",
       "      <td>0.261057</td>\n",
       "      <td>0.643078</td>\n",
       "      <td>0.376777</td>\n",
       "      <td>0.008797</td>\n",
       "      <td>-0.473649</td>\n",
       "      <td>-0.818267</td>\n",
       "      <td>-0.002415</td>\n",
       "      <td>0.013649</td>\n",
       "      <td>0.514355</td>\n",
       "      <td>0</td>\n",
       "    </tr>\n",
       "  </tbody>\n",
       "</table>\n",
       "<p>5 rows × 31 columns</p>\n",
       "</div>"
      ],
      "text/plain": [
       "            Time         V1         V2        V3        V4        V5  \\\n",
       "284802  1.641931 -11.881118  10.071785 -9.834783 -2.066656 -5.364473   \n",
       "284803  1.641952  -0.732789  -0.055080  2.035030 -0.738589  0.868229   \n",
       "284804  1.641974   1.919565  -0.301254 -3.249640 -0.557828  2.630515   \n",
       "284805  1.641974  -0.240440   0.530483  0.702510  0.689799 -0.377961   \n",
       "284806  1.642058  -0.533413  -0.189733  0.703337 -0.506271 -0.012546   \n",
       "\n",
       "              V6        V7        V8        V9  ...       V21       V22  \\\n",
       "284802 -2.606837 -4.918215  7.305334  1.914428  ...  0.213454  0.111864   \n",
       "284803  1.058415  0.024330  0.294869  0.584800  ...  0.214205  0.924384   \n",
       "284804  3.031260 -0.296827  0.708417  0.432454  ...  0.232045  0.578229   \n",
       "284805  0.623708 -0.686180  0.679145  0.392087  ...  0.265245  0.800049   \n",
       "284806 -0.649617  1.577006 -0.414650  0.486180  ...  0.261057  0.643078   \n",
       "\n",
       "             V23       V24       V25       V26       V27       V28    Amount  \\\n",
       "284802  1.014480 -0.509348  1.436807  0.250034  0.943651  0.823731 -0.350151   \n",
       "284803  0.012463 -1.016226 -0.606624 -0.395255  0.068472 -0.053527 -0.254117   \n",
       "284804 -0.037501  0.640134  0.265745 -0.087371  0.004455 -0.026561 -0.081839   \n",
       "284805 -0.163298  0.123205 -0.569159  0.546668  0.108821  0.104533 -0.313249   \n",
       "284806  0.376777  0.008797 -0.473649 -0.818267 -0.002415  0.013649  0.514355   \n",
       "\n",
       "        Class  \n",
       "284802      0  \n",
       "284803      0  \n",
       "284804      0  \n",
       "284805      0  \n",
       "284806      0  \n",
       "\n",
       "[5 rows x 31 columns]"
      ]
     },
     "execution_count": 8,
     "metadata": {},
     "output_type": "execute_result"
    }
   ],
   "source": [
    "df.tail()"
   ]
  },
  {
   "cell_type": "code",
   "execution_count": 9,
   "metadata": {
    "pycharm": {
     "name": "#%%\n"
    }
   },
   "outputs": [
    {
     "data": {
      "text/plain": [
       "((492, 31), (284315, 31))"
      ]
     },
     "execution_count": 9,
     "metadata": {},
     "output_type": "execute_result"
    }
   ],
   "source": [
    "anomalies = df[df[\"Class\"] == 1]\n",
    "normal = df[df[\"Class\"] == 0]\n",
    "\n",
    "anomalies.shape, normal.shape"
   ]
  },
  {
   "cell_type": "code",
   "execution_count": 10,
   "metadata": {
    "pycharm": {
     "name": "#%%\n"
    }
   },
   "outputs": [
    {
     "data": {
      "text/html": [
       "<div>\n",
       "<style scoped>\n",
       "    .dataframe tbody tr th:only-of-type {\n",
       "        vertical-align: middle;\n",
       "    }\n",
       "\n",
       "    .dataframe tbody tr th {\n",
       "        vertical-align: top;\n",
       "    }\n",
       "\n",
       "    .dataframe thead th {\n",
       "        text-align: right;\n",
       "    }\n",
       "</style>\n",
       "<table border=\"1\" class=\"dataframe\">\n",
       "  <thead>\n",
       "    <tr style=\"text-align: right;\">\n",
       "      <th></th>\n",
       "      <th>Time</th>\n",
       "      <th>V1</th>\n",
       "      <th>V2</th>\n",
       "      <th>V3</th>\n",
       "      <th>V4</th>\n",
       "      <th>V5</th>\n",
       "      <th>V6</th>\n",
       "      <th>V7</th>\n",
       "      <th>V8</th>\n",
       "      <th>V9</th>\n",
       "      <th>...</th>\n",
       "      <th>V21</th>\n",
       "      <th>V22</th>\n",
       "      <th>V23</th>\n",
       "      <th>V24</th>\n",
       "      <th>V25</th>\n",
       "      <th>V26</th>\n",
       "      <th>V27</th>\n",
       "      <th>V28</th>\n",
       "      <th>Amount</th>\n",
       "      <th>Class</th>\n",
       "    </tr>\n",
       "  </thead>\n",
       "  <tbody>\n",
       "    <tr>\n",
       "      <th>81</th>\n",
       "      <td>-1.995488</td>\n",
       "      <td>1.147369</td>\n",
       "      <td>0.059035</td>\n",
       "      <td>0.263632</td>\n",
       "      <td>1.211023</td>\n",
       "      <td>-0.044096</td>\n",
       "      <td>0.301067</td>\n",
       "      <td>-0.132960</td>\n",
       "      <td>0.227885</td>\n",
       "      <td>0.252191</td>\n",
       "      <td>...</td>\n",
       "      <td>-0.087813</td>\n",
       "      <td>-0.110756</td>\n",
       "      <td>-0.097771</td>\n",
       "      <td>-0.323374</td>\n",
       "      <td>0.633279</td>\n",
       "      <td>-0.305328</td>\n",
       "      <td>0.027394</td>\n",
       "      <td>-0.000580</td>\n",
       "      <td>-0.326562</td>\n",
       "      <td>0</td>\n",
       "    </tr>\n",
       "    <tr>\n",
       "      <th>101</th>\n",
       "      <td>-1.995151</td>\n",
       "      <td>-0.770196</td>\n",
       "      <td>0.483572</td>\n",
       "      <td>1.901072</td>\n",
       "      <td>-0.001876</td>\n",
       "      <td>0.024245</td>\n",
       "      <td>-1.171903</td>\n",
       "      <td>0.666483</td>\n",
       "      <td>-0.094603</td>\n",
       "      <td>-0.136666</td>\n",
       "      <td>...</td>\n",
       "      <td>-0.057336</td>\n",
       "      <td>-0.155801</td>\n",
       "      <td>0.018108</td>\n",
       "      <td>0.941555</td>\n",
       "      <td>-0.168582</td>\n",
       "      <td>0.056171</td>\n",
       "      <td>0.058979</td>\n",
       "      <td>0.134188</td>\n",
       "      <td>-0.263832</td>\n",
       "      <td>0</td>\n",
       "    </tr>\n",
       "    <tr>\n",
       "      <th>131</th>\n",
       "      <td>-1.994856</td>\n",
       "      <td>-0.888004</td>\n",
       "      <td>0.913670</td>\n",
       "      <td>1.146088</td>\n",
       "      <td>0.656290</td>\n",
       "      <td>0.677272</td>\n",
       "      <td>-0.326211</td>\n",
       "      <td>0.888811</td>\n",
       "      <td>-0.341848</td>\n",
       "      <td>-0.523849</td>\n",
       "      <td>...</td>\n",
       "      <td>0.107833</td>\n",
       "      <td>0.661993</td>\n",
       "      <td>-0.004713</td>\n",
       "      <td>0.031097</td>\n",
       "      <td>-0.140882</td>\n",
       "      <td>-0.373698</td>\n",
       "      <td>-0.157921</td>\n",
       "      <td>0.076529</td>\n",
       "      <td>-0.329641</td>\n",
       "      <td>0</td>\n",
       "    </tr>\n",
       "    <tr>\n",
       "      <th>192</th>\n",
       "      <td>-1.993951</td>\n",
       "      <td>-0.724910</td>\n",
       "      <td>0.073475</td>\n",
       "      <td>1.739547</td>\n",
       "      <td>0.758588</td>\n",
       "      <td>0.229543</td>\n",
       "      <td>2.422069</td>\n",
       "      <td>0.196688</td>\n",
       "      <td>0.861076</td>\n",
       "      <td>0.099102</td>\n",
       "      <td>...</td>\n",
       "      <td>0.188696</td>\n",
       "      <td>0.738515</td>\n",
       "      <td>0.145933</td>\n",
       "      <td>-1.032186</td>\n",
       "      <td>-0.087511</td>\n",
       "      <td>-0.221063</td>\n",
       "      <td>0.108168</td>\n",
       "      <td>0.011785</td>\n",
       "      <td>0.098554</td>\n",
       "      <td>0</td>\n",
       "    </tr>\n",
       "    <tr>\n",
       "      <th>623</th>\n",
       "      <td>-1.986644</td>\n",
       "      <td>-3.043541</td>\n",
       "      <td>-3.157307</td>\n",
       "      <td>1.088463</td>\n",
       "      <td>2.288644</td>\n",
       "      <td>1.359805</td>\n",
       "      <td>-1.064823</td>\n",
       "      <td>0.325574</td>\n",
       "      <td>-0.067794</td>\n",
       "      <td>-0.270953</td>\n",
       "      <td>...</td>\n",
       "      <td>0.661696</td>\n",
       "      <td>0.435477</td>\n",
       "      <td>1.375966</td>\n",
       "      <td>-0.293803</td>\n",
       "      <td>0.279798</td>\n",
       "      <td>-0.145362</td>\n",
       "      <td>-0.252773</td>\n",
       "      <td>0.035764</td>\n",
       "      <td>1.761758</td>\n",
       "      <td>1</td>\n",
       "    </tr>\n",
       "    <tr>\n",
       "      <th>648</th>\n",
       "      <td>-1.986244</td>\n",
       "      <td>-0.946412</td>\n",
       "      <td>0.609500</td>\n",
       "      <td>1.201710</td>\n",
       "      <td>0.113074</td>\n",
       "      <td>-0.210132</td>\n",
       "      <td>-0.954009</td>\n",
       "      <td>0.130325</td>\n",
       "      <td>0.293270</td>\n",
       "      <td>-0.579076</td>\n",
       "      <td>...</td>\n",
       "      <td>-0.036421</td>\n",
       "      <td>-0.266529</td>\n",
       "      <td>-0.038869</td>\n",
       "      <td>0.481943</td>\n",
       "      <td>-0.277006</td>\n",
       "      <td>0.949985</td>\n",
       "      <td>-0.079616</td>\n",
       "      <td>-0.016606</td>\n",
       "      <td>-0.279465</td>\n",
       "      <td>0</td>\n",
       "    </tr>\n",
       "    <tr>\n",
       "      <th>776</th>\n",
       "      <td>-1.984243</td>\n",
       "      <td>1.222874</td>\n",
       "      <td>-0.070299</td>\n",
       "      <td>-1.488572</td>\n",
       "      <td>-0.079898</td>\n",
       "      <td>2.111507</td>\n",
       "      <td>3.465646</td>\n",
       "      <td>-0.637466</td>\n",
       "      <td>0.898122</td>\n",
       "      <td>0.459247</td>\n",
       "      <td>...</td>\n",
       "      <td>-0.223690</td>\n",
       "      <td>-0.594069</td>\n",
       "      <td>-0.145533</td>\n",
       "      <td>0.942844</td>\n",
       "      <td>0.699800</td>\n",
       "      <td>0.424816</td>\n",
       "      <td>0.000268</td>\n",
       "      <td>0.039227</td>\n",
       "      <td>-0.235046</td>\n",
       "      <td>0</td>\n",
       "    </tr>\n",
       "    <tr>\n",
       "      <th>1047</th>\n",
       "      <td>-1.979905</td>\n",
       "      <td>-2.496329</td>\n",
       "      <td>1.157444</td>\n",
       "      <td>3.770236</td>\n",
       "      <td>-0.230246</td>\n",
       "      <td>0.007065</td>\n",
       "      <td>0.506341</td>\n",
       "      <td>1.629152</td>\n",
       "      <td>-2.267294</td>\n",
       "      <td>4.304904</td>\n",
       "      <td>...</td>\n",
       "      <td>-0.594643</td>\n",
       "      <td>0.105965</td>\n",
       "      <td>-0.558559</td>\n",
       "      <td>0.732507</td>\n",
       "      <td>0.069949</td>\n",
       "      <td>-0.030734</td>\n",
       "      <td>-2.887661</td>\n",
       "      <td>-1.683655</td>\n",
       "      <td>-0.339756</td>\n",
       "      <td>0</td>\n",
       "    </tr>\n",
       "    <tr>\n",
       "      <th>1101</th>\n",
       "      <td>-1.978600</td>\n",
       "      <td>1.111712</td>\n",
       "      <td>0.215379</td>\n",
       "      <td>0.355265</td>\n",
       "      <td>1.014603</td>\n",
       "      <td>-0.145608</td>\n",
       "      <td>-0.284154</td>\n",
       "      <td>0.060931</td>\n",
       "      <td>0.037710</td>\n",
       "      <td>-0.289567</td>\n",
       "      <td>...</td>\n",
       "      <td>0.129749</td>\n",
       "      <td>0.378383</td>\n",
       "      <td>-0.070872</td>\n",
       "      <td>0.236140</td>\n",
       "      <td>0.549833</td>\n",
       "      <td>-0.330397</td>\n",
       "      <td>0.023216</td>\n",
       "      <td>0.011639</td>\n",
       "      <td>-0.269150</td>\n",
       "      <td>0</td>\n",
       "    </tr>\n",
       "    <tr>\n",
       "      <th>1552</th>\n",
       "      <td>-1.970934</td>\n",
       "      <td>-1.912896</td>\n",
       "      <td>-1.409519</td>\n",
       "      <td>2.182004</td>\n",
       "      <td>0.468684</td>\n",
       "      <td>0.136955</td>\n",
       "      <td>0.069965</td>\n",
       "      <td>0.650129</td>\n",
       "      <td>0.131006</td>\n",
       "      <td>0.102612</td>\n",
       "      <td>...</td>\n",
       "      <td>0.446602</td>\n",
       "      <td>0.601013</td>\n",
       "      <td>0.539556</td>\n",
       "      <td>-0.040612</td>\n",
       "      <td>0.354624</td>\n",
       "      <td>-0.437351</td>\n",
       "      <td>-0.197436</td>\n",
       "      <td>-0.080706</td>\n",
       "      <td>0.910166</td>\n",
       "      <td>0</td>\n",
       "    </tr>\n",
       "  </tbody>\n",
       "</table>\n",
       "<p>10 rows × 31 columns</p>\n",
       "</div>"
      ],
      "text/plain": [
       "          Time        V1        V2        V3        V4        V5        V6  \\\n",
       "81   -1.995488  1.147369  0.059035  0.263632  1.211023 -0.044096  0.301067   \n",
       "101  -1.995151 -0.770196  0.483572  1.901072 -0.001876  0.024245 -1.171903   \n",
       "131  -1.994856 -0.888004  0.913670  1.146088  0.656290  0.677272 -0.326211   \n",
       "192  -1.993951 -0.724910  0.073475  1.739547  0.758588  0.229543  2.422069   \n",
       "623  -1.986644 -3.043541 -3.157307  1.088463  2.288644  1.359805 -1.064823   \n",
       "648  -1.986244 -0.946412  0.609500  1.201710  0.113074 -0.210132 -0.954009   \n",
       "776  -1.984243  1.222874 -0.070299 -1.488572 -0.079898  2.111507  3.465646   \n",
       "1047 -1.979905 -2.496329  1.157444  3.770236 -0.230246  0.007065  0.506341   \n",
       "1101 -1.978600  1.111712  0.215379  0.355265  1.014603 -0.145608 -0.284154   \n",
       "1552 -1.970934 -1.912896 -1.409519  2.182004  0.468684  0.136955  0.069965   \n",
       "\n",
       "            V7        V8        V9  ...       V21       V22       V23  \\\n",
       "81   -0.132960  0.227885  0.252191  ... -0.087813 -0.110756 -0.097771   \n",
       "101   0.666483 -0.094603 -0.136666  ... -0.057336 -0.155801  0.018108   \n",
       "131   0.888811 -0.341848 -0.523849  ...  0.107833  0.661993 -0.004713   \n",
       "192   0.196688  0.861076  0.099102  ...  0.188696  0.738515  0.145933   \n",
       "623   0.325574 -0.067794 -0.270953  ...  0.661696  0.435477  1.375966   \n",
       "648   0.130325  0.293270 -0.579076  ... -0.036421 -0.266529 -0.038869   \n",
       "776  -0.637466  0.898122  0.459247  ... -0.223690 -0.594069 -0.145533   \n",
       "1047  1.629152 -2.267294  4.304904  ... -0.594643  0.105965 -0.558559   \n",
       "1101  0.060931  0.037710 -0.289567  ...  0.129749  0.378383 -0.070872   \n",
       "1552  0.650129  0.131006  0.102612  ...  0.446602  0.601013  0.539556   \n",
       "\n",
       "           V24       V25       V26       V27       V28    Amount  Class  \n",
       "81   -0.323374  0.633279 -0.305328  0.027394 -0.000580 -0.326562      0  \n",
       "101   0.941555 -0.168582  0.056171  0.058979  0.134188 -0.263832      0  \n",
       "131   0.031097 -0.140882 -0.373698 -0.157921  0.076529 -0.329641      0  \n",
       "192  -1.032186 -0.087511 -0.221063  0.108168  0.011785  0.098554      0  \n",
       "623  -0.293803  0.279798 -0.145362 -0.252773  0.035764  1.761758      1  \n",
       "648   0.481943 -0.277006  0.949985 -0.079616 -0.016606 -0.279465      0  \n",
       "776   0.942844  0.699800  0.424816  0.000268  0.039227 -0.235046      0  \n",
       "1047  0.732507  0.069949 -0.030734 -2.887661 -1.683655 -0.339756      0  \n",
       "1101  0.236140  0.549833 -0.330397  0.023216  0.011639 -0.269150      0  \n",
       "1552 -0.040612  0.354624 -0.437351 -0.197436 -0.080706  0.910166      0  \n",
       "\n",
       "[10 rows x 31 columns]"
      ]
     },
     "execution_count": 10,
     "metadata": {},
     "output_type": "execute_result"
    }
   ],
   "source": [
    "\n",
    "for f in range(0, 20):\n",
    "    normal = normal.iloc[np.random.permutation(len(normal))]\n",
    "\n",
    "\n",
    "data_set = pd.concat([normal[:2000], anomalies])\n",
    "\n",
    "x_train, x_test = train_test_split(data_set, test_size = 0.4, random_state = 42)\n",
    "\n",
    "x_train = x_train.sort_values(by=['Time'])\n",
    "x_test = x_test.sort_values(by=['Time'])\n",
    "\n",
    "plot_test = x_test[['Time', col]]\n",
    "\n",
    "y_train = x_train[\"Class\"]\n",
    "y_test = x_test[\"Class\"]\n",
    "\n",
    "x_train.head(10)"
   ]
  },
  {
   "cell_type": "code",
   "execution_count": 11,
   "metadata": {
    "pycharm": {
     "name": "#%%\n"
    }
   },
   "outputs": [
    {
     "data": {
      "text/plain": [
       "((294, 31), (1201, 31))"
      ]
     },
     "execution_count": 11,
     "metadata": {},
     "output_type": "execute_result"
    }
   ],
   "source": [
    "a = x_train[x_train[\"Class\"] == 1]\n",
    "n = x_train[x_train[\"Class\"] == 0]\n",
    "\n",
    "a.shape, n.shape"
   ]
  },
  {
   "cell_type": "code",
   "execution_count": 12,
   "metadata": {
    "pycharm": {
     "name": "#%%\n"
    }
   },
   "outputs": [
    {
     "data": {
      "text/plain": [
       "((198, 31), (799, 31))"
      ]
     },
     "execution_count": 12,
     "metadata": {},
     "output_type": "execute_result"
    }
   ],
   "source": [
    "\n",
    "a = x_test[x_test[\"Class\"] == 1]\n",
    "n = x_test[x_test[\"Class\"] == 0]\n",
    "\n",
    "a.shape, n.shape"
   ]
  },
  {
   "cell_type": "code",
   "execution_count": 13,
   "metadata": {
    "pycharm": {
     "name": "#%%\n"
    }
   },
   "outputs": [
    {
     "name": "stdout",
     "output_type": "stream",
     "text": [
      "Shapes:\n",
      "x_train:(1495, 31)\n",
      "y_train:(1495,)\n",
      "\n",
      "x_test:(997, 31)\n",
      "y_test:(997,)\n",
      "\n"
     ]
    }
   ],
   "source": [
    "print(\"Shapes:\\nx_train:%s\\ny_train:%s\\n\" % (x_train.shape, y_train.shape))\n",
    "print(\"x_test:%s\\ny_test:%s\\n\" % (x_test.shape, y_test.shape))"
   ]
  },
  {
   "cell_type": "code",
   "execution_count": 14,
   "metadata": {
    "pycharm": {
     "name": "#%%\n"
    }
   },
   "outputs": [],
   "source": [
    "x_train = np.array(x_train).reshape(x_train.shape[0], x_train.shape[1], 1)\n",
    "x_test = np.array(x_test).reshape(x_test.shape[0], x_test.shape[1], 1)\n",
    "input_shape = (x_train.shape[1], 1)\n",
    "\n",
    "y_train = tensorflow.keras.utils.to_categorical(y_train, 2)\n",
    "y_test = tensorflow.keras.utils.to_categorical(y_test, 2)"
   ]
  },
  {
   "cell_type": "code",
   "execution_count": 15,
   "metadata": {
    "pycharm": {
     "name": "#%%\n"
    }
   },
   "outputs": [],
   "source": [
    "input_layer = Input(shape=(input_shape))\n",
    "\n",
    "#Series of temporal convolutional layers with dilations increasing by powers of 2.\n",
    "conv_1 = Conv1D(filters=128, kernel_size=2, dilation_rate=1,\n",
    "                padding='causal', strides=1,input_shape=input_shape,\n",
    "                kernel_regularizer=regularizers.l2(0.01),\n",
    "                activation='relu')(input_layer)\n",
    "\n",
    "#Dropout layer after each 1D-convolutional layer\n",
    "drop_1 = SpatialDropout1D(0.05)(conv_1)\n",
    "\n",
    "conv_2 = Conv1D(filters=128, kernel_size=2, dilation_rate=2,\n",
    "                padding='causal',strides=1, kernel_regularizer=regularizers.l2(0.01),\n",
    "                activation='relu')(drop_1)\n",
    "\n",
    "drop_2 = SpatialDropout1D(0.05)(conv_2)\n",
    "\n",
    "conv_3 = Conv1D(filters=128, kernel_size=2, dilation_rate=4,\n",
    "                padding='causal', strides=1,kernel_regularizer=regularizers.l2(0.01),\n",
    "                activation='relu')(drop_2)\n",
    "\n",
    "drop_3 = SpatialDropout1D(0.05)(conv_3)\n",
    "\n",
    "conv_4 = Conv1D(filters=128, kernel_size=2, dilation_rate=8,\n",
    "                padding='causal', strides=1,kernel_regularizer=regularizers.l2(0.05),\n",
    "                activation='relu')(drop_3)\n",
    "\n",
    "drop_4 = SpatialDropout1D(0.05)(conv_4)\n",
    "\n",
    "#Flatten layer to feed into the output layer\n",
    "flat = Flatten()(drop_4)\n",
    "\n",
    "output_layer = Dense(2, activation='softmax')(flat)\n",
    "\n",
    "TCN = Model(inputs=input_layer, outputs=output_layer)"
   ]
  },
  {
   "cell_type": "code",
   "execution_count": 16,
   "metadata": {
    "pycharm": {
     "name": "#%%\n"
    }
   },
   "outputs": [
    {
     "name": "stdout",
     "output_type": "stream",
     "text": [
      "Model: \"model\"\n",
      "_________________________________________________________________\n",
      "Layer (type)                 Output Shape              Param #   \n",
      "=================================================================\n",
      "input_1 (InputLayer)         [(None, 31, 1)]           0         \n",
      "_________________________________________________________________\n",
      "conv1d (Conv1D)              (None, 31, 128)           384       \n",
      "_________________________________________________________________\n",
      "spatial_dropout1d (SpatialDr (None, 31, 128)           0         \n",
      "_________________________________________________________________\n",
      "conv1d_1 (Conv1D)            (None, 31, 128)           32896     \n",
      "_________________________________________________________________\n",
      "spatial_dropout1d_1 (Spatial (None, 31, 128)           0         \n",
      "_________________________________________________________________\n",
      "conv1d_2 (Conv1D)            (None, 31, 128)           32896     \n",
      "_________________________________________________________________\n",
      "spatial_dropout1d_2 (Spatial (None, 31, 128)           0         \n",
      "_________________________________________________________________\n",
      "conv1d_3 (Conv1D)            (None, 31, 128)           32896     \n",
      "_________________________________________________________________\n",
      "spatial_dropout1d_3 (Spatial (None, 31, 128)           0         \n",
      "_________________________________________________________________\n",
      "flatten (Flatten)            (None, 3968)              0         \n",
      "_________________________________________________________________\n",
      "dense (Dense)                (None, 2)                 7938      \n",
      "=================================================================\n",
      "Total params: 107,010\n",
      "Trainable params: 107,010\n",
      "Non-trainable params: 0\n",
      "_________________________________________________________________\n"
     ]
    },
    {
     "name": "stderr",
     "output_type": "stream",
     "text": [
      "/usr/local/Cellar/python@3.9/3.9.0_1/Frameworks/Python.framework/Versions/3.9/lib/python3.9/site-packages/keras/optimizer_v2/optimizer_v2.py:355: UserWarning: The `lr` argument is deprecated, use `learning_rate` instead.\n",
      "  warnings.warn(\n"
     ]
    }
   ],
   "source": [
    "\n",
    "TCN.compile(loss='mean_squared_error',\n",
    "              optimizer=optimizers.Adam(lr=0.002),\n",
    "              metrics=['mae', 'accuracy'])\n",
    "\n",
    "checkpointer = ModelCheckpoint(filepath='model_TCN_{0}.h5'.format(tensorlog),\n",
    "                               verbose=0,\n",
    "                               save_best_only=True)\n",
    "\n",
    "TCN.summary()"
   ]
  },
  {
   "cell_type": "code",
   "execution_count": 17,
   "metadata": {
    "pycharm": {
     "name": "#%%\n"
    }
   },
   "outputs": [
    {
     "name": "stdout",
     "output_type": "stream",
     "text": [
      "Epoch 1/10\n",
      "12/12 [==============================] - 3s 113ms/step - loss: 6.8128 - mae: 0.2636 - accuracy: 0.9438 - val_loss: 4.3910 - val_mae: 0.1161 - val_accuracy: 0.9599\n",
      "Epoch 2/10\n",
      "12/12 [==============================] - 1s 72ms/step - loss: 3.1070 - mae: 0.1011 - accuracy: 0.9645 - val_loss: 1.8538 - val_mae: 0.1221 - val_accuracy: 0.9579\n",
      "Epoch 3/10\n",
      "12/12 [==============================] - 1s 75ms/step - loss: 1.2492 - mae: 0.1124 - accuracy: 0.9639 - val_loss: 0.6980 - val_mae: 0.1149 - val_accuracy: 0.9569\n",
      "Epoch 4/10\n",
      "12/12 [==============================] - 1s 74ms/step - loss: 0.4550 - mae: 0.1096 - accuracy: 0.9639 - val_loss: 0.2571 - val_mae: 0.0947 - val_accuracy: 0.9468\n",
      "Epoch 5/10\n",
      "12/12 [==============================] - 1s 89ms/step - loss: 0.1718 - mae: 0.0913 - accuracy: 0.9592 - val_loss: 0.1130 - val_mae: 0.0818 - val_accuracy: 0.9519\n",
      "Epoch 6/10\n",
      "12/12 [==============================] - 1s 88ms/step - loss: 0.0834 - mae: 0.0857 - accuracy: 0.9639 - val_loss: 0.0710 - val_mae: 0.0859 - val_accuracy: 0.9569\n",
      "Epoch 7/10\n",
      "12/12 [==============================] - 1s 85ms/step - loss: 0.0594 - mae: 0.0856 - accuracy: 0.9672 - val_loss: 0.0623 - val_mae: 0.1018 - val_accuracy: 0.9569\n",
      "Epoch 8/10\n",
      "12/12 [==============================] - 1s 74ms/step - loss: 0.0533 - mae: 0.0876 - accuracy: 0.9652 - val_loss: 0.0610 - val_mae: 0.1135 - val_accuracy: 0.9589\n",
      "Epoch 9/10\n",
      "12/12 [==============================] - 1s 74ms/step - loss: 0.0544 - mae: 0.0879 - accuracy: 0.9652 - val_loss: 0.0579 - val_mae: 0.0851 - val_accuracy: 0.9569\n",
      "Epoch 10/10\n",
      "12/12 [==============================] - 1s 72ms/step - loss: 0.0525 - mae: 0.0809 - accuracy: 0.9632 - val_loss: 0.0568 - val_mae: 0.0828 - val_accuracy: 0.9579\n"
     ]
    },
    {
     "data": {
      "text/plain": [
       "<keras.callbacks.History at 0x144f87c40>"
      ]
     },
     "execution_count": 17,
     "metadata": {},
     "output_type": "execute_result"
    }
   ],
   "source": [
    "\n",
    "TCN.fit(x_train, y_train,\n",
    "          batch_size=128,\n",
    "          epochs=10,\n",
    "          verbose=1,\n",
    "          validation_data=(x_test, y_test),\n",
    "          callbacks = [TensorBoard(log_dir='../logs/{0}'.format(tensorlog))])"
   ]
  },
  {
   "cell_type": "code",
   "execution_count": 18,
   "metadata": {
    "pycharm": {
     "name": "#%%\n"
    }
   },
   "outputs": [
    {
     "name": "stdout",
     "output_type": "stream",
     "text": [
      "Test loss: 0.05676983296871185\n",
      "Test accuracy: 0.08276111632585526\n"
     ]
    }
   ],
   "source": [
    "score = TCN.evaluate(x_test, y_test, verbose=0)\n",
    "print('Test loss:', score[0])\n",
    "print('Test accuracy:', score[1])"
   ]
  },
  {
   "cell_type": "code",
   "execution_count": 19,
   "metadata": {
    "pycharm": {
     "name": "#%%\n"
    }
   },
   "outputs": [
    {
     "name": "stdout",
     "output_type": "stream",
     "text": [
      "[[1. 0.]\n",
      " [1. 0.]\n",
      " [0. 1.]\n",
      " ...\n",
      " [1. 0.]\n",
      " [1. 0.]\n",
      " [1. 0.]]\n",
      "AUC: 96.50%\n"
     ]
    }
   ],
   "source": [
    "preds = TCN.predict(x_test)\n",
    "y_pred = np.round(preds)\n",
    "print(y_pred)\n",
    "auc = roc_auc_score(y_pred, y_test)\n",
    "print(\"AUC: {:.2%}\".format (auc))"
   ]
  },
  {
   "cell_type": "code",
   "execution_count": 20,
   "metadata": {
    "pycharm": {
     "name": "#%%\n"
    }
   },
   "outputs": [
    {
     "data": {
      "text/html": [
       "<div>\n",
       "<style scoped>\n",
       "    .dataframe tbody tr th:only-of-type {\n",
       "        vertical-align: middle;\n",
       "    }\n",
       "\n",
       "    .dataframe tbody tr th {\n",
       "        vertical-align: top;\n",
       "    }\n",
       "\n",
       "    .dataframe thead th {\n",
       "        text-align: right;\n",
       "    }\n",
       "</style>\n",
       "<table border=\"1\" class=\"dataframe\">\n",
       "  <thead>\n",
       "    <tr style=\"text-align: right;\">\n",
       "      <th></th>\n",
       "      <th>Time</th>\n",
       "      <th>observation</th>\n",
       "      <th>anomaly</th>\n",
       "    </tr>\n",
       "  </thead>\n",
       "  <tbody>\n",
       "    <tr>\n",
       "      <th>541</th>\n",
       "      <td>-1.988034</td>\n",
       "      <td>-0.353229</td>\n",
       "      <td>1</td>\n",
       "    </tr>\n",
       "    <tr>\n",
       "      <th>4920</th>\n",
       "      <td>-1.902623</td>\n",
       "      <td>0.606031</td>\n",
       "      <td>1</td>\n",
       "    </tr>\n",
       "    <tr>\n",
       "      <th>6108</th>\n",
       "      <td>-1.849472</td>\n",
       "      <td>-0.117342</td>\n",
       "      <td>1</td>\n",
       "    </tr>\n",
       "    <tr>\n",
       "      <th>6329</th>\n",
       "      <td>-1.838248</td>\n",
       "      <td>-0.349231</td>\n",
       "      <td>1</td>\n",
       "    </tr>\n",
       "    <tr>\n",
       "      <th>6331</th>\n",
       "      <td>-1.838101</td>\n",
       "      <td>-0.349231</td>\n",
       "      <td>1</td>\n",
       "    </tr>\n",
       "    <tr>\n",
       "      <th>6427</th>\n",
       "      <td>-1.836332</td>\n",
       "      <td>-0.349231</td>\n",
       "      <td>1</td>\n",
       "    </tr>\n",
       "    <tr>\n",
       "      <th>6446</th>\n",
       "      <td>-1.835027</td>\n",
       "      <td>-0.349231</td>\n",
       "      <td>1</td>\n",
       "    </tr>\n",
       "    <tr>\n",
       "      <th>6472</th>\n",
       "      <td>-1.833595</td>\n",
       "      <td>-0.349231</td>\n",
       "      <td>1</td>\n",
       "    </tr>\n",
       "    <tr>\n",
       "      <th>6529</th>\n",
       "      <td>-1.830415</td>\n",
       "      <td>-0.349231</td>\n",
       "      <td>1</td>\n",
       "    </tr>\n",
       "    <tr>\n",
       "      <th>6609</th>\n",
       "      <td>-1.826224</td>\n",
       "      <td>-0.349231</td>\n",
       "      <td>1</td>\n",
       "    </tr>\n",
       "    <tr>\n",
       "      <th>6774</th>\n",
       "      <td>-1.817001</td>\n",
       "      <td>-0.349231</td>\n",
       "      <td>1</td>\n",
       "    </tr>\n",
       "    <tr>\n",
       "      <th>6870</th>\n",
       "      <td>-1.812179</td>\n",
       "      <td>-0.349231</td>\n",
       "      <td>1</td>\n",
       "    </tr>\n",
       "    <tr>\n",
       "      <th>8296</th>\n",
       "      <td>-1.763261</td>\n",
       "      <td>-0.349231</td>\n",
       "      <td>1</td>\n",
       "    </tr>\n",
       "    <tr>\n",
       "      <th>8842</th>\n",
       "      <td>-1.741930</td>\n",
       "      <td>-0.353229</td>\n",
       "      <td>1</td>\n",
       "    </tr>\n",
       "    <tr>\n",
       "      <th>8845</th>\n",
       "      <td>-1.741887</td>\n",
       "      <td>-0.231728</td>\n",
       "      <td>1</td>\n",
       "    </tr>\n",
       "    <tr>\n",
       "      <th>9035</th>\n",
       "      <td>-1.731316</td>\n",
       "      <td>-0.349231</td>\n",
       "      <td>1</td>\n",
       "    </tr>\n",
       "    <tr>\n",
       "      <th>10568</th>\n",
       "      <td>-1.627648</td>\n",
       "      <td>-0.349231</td>\n",
       "      <td>1</td>\n",
       "    </tr>\n",
       "    <tr>\n",
       "      <th>10630</th>\n",
       "      <td>-1.620952</td>\n",
       "      <td>2.710744</td>\n",
       "      <td>1</td>\n",
       "    </tr>\n",
       "    <tr>\n",
       "      <th>10801</th>\n",
       "      <td>-1.609138</td>\n",
       "      <td>-0.349231</td>\n",
       "      <td>1</td>\n",
       "    </tr>\n",
       "    <tr>\n",
       "      <th>10891</th>\n",
       "      <td>-1.603326</td>\n",
       "      <td>0.401529</td>\n",
       "      <td>1</td>\n",
       "    </tr>\n",
       "    <tr>\n",
       "      <th>11343</th>\n",
       "      <td>-1.580436</td>\n",
       "      <td>-0.349231</td>\n",
       "      <td>1</td>\n",
       "    </tr>\n",
       "    <tr>\n",
       "      <th>11880</th>\n",
       "      <td>-1.565927</td>\n",
       "      <td>-0.349231</td>\n",
       "      <td>1</td>\n",
       "    </tr>\n",
       "    <tr>\n",
       "      <th>12108</th>\n",
       "      <td>-1.553398</td>\n",
       "      <td>-0.349231</td>\n",
       "      <td>1</td>\n",
       "    </tr>\n",
       "    <tr>\n",
       "      <th>12229</th>\n",
       "      <td>-1.546428</td>\n",
       "      <td>0.006558</td>\n",
       "      <td>1</td>\n",
       "    </tr>\n",
       "    <tr>\n",
       "      <th>12369</th>\n",
       "      <td>-1.540426</td>\n",
       "      <td>-0.349231</td>\n",
       "      <td>1</td>\n",
       "    </tr>\n",
       "  </tbody>\n",
       "</table>\n",
       "</div>"
      ],
      "text/plain": [
       "           Time  observation  anomaly\n",
       "541   -1.988034    -0.353229        1\n",
       "4920  -1.902623     0.606031        1\n",
       "6108  -1.849472    -0.117342        1\n",
       "6329  -1.838248    -0.349231        1\n",
       "6331  -1.838101    -0.349231        1\n",
       "6427  -1.836332    -0.349231        1\n",
       "6446  -1.835027    -0.349231        1\n",
       "6472  -1.833595    -0.349231        1\n",
       "6529  -1.830415    -0.349231        1\n",
       "6609  -1.826224    -0.349231        1\n",
       "6774  -1.817001    -0.349231        1\n",
       "6870  -1.812179    -0.349231        1\n",
       "8296  -1.763261    -0.349231        1\n",
       "8842  -1.741930    -0.353229        1\n",
       "8845  -1.741887    -0.231728        1\n",
       "9035  -1.731316    -0.349231        1\n",
       "10568 -1.627648    -0.349231        1\n",
       "10630 -1.620952     2.710744        1\n",
       "10801 -1.609138    -0.349231        1\n",
       "10891 -1.603326     0.401529        1\n",
       "11343 -1.580436    -0.349231        1\n",
       "11880 -1.565927    -0.349231        1\n",
       "12108 -1.553398    -0.349231        1\n",
       "12229 -1.546428     0.006558        1\n",
       "12369 -1.540426    -0.349231        1"
      ]
     },
     "execution_count": 20,
     "metadata": {},
     "output_type": "execute_result"
    }
   ],
   "source": [
    "#print(real_estate)\n",
    "\n",
    "y_label = np.argmax(y_pred, axis=1)\n",
    "\n",
    "adf = pd.DataFrame({'Time': plot_test['Time'], 'observation': plot_test[col],\n",
    "                    'anomaly': y_label})\n",
    "\n",
    "anom = adf.loc[adf['anomaly'] == 1]\n",
    "\n",
    "anom.head(25)"
   ]
  },
  {
   "cell_type": "code",
   "execution_count": 21,
   "metadata": {
    "pycharm": {
     "name": "#%%\n"
    }
   },
   "outputs": [
    {
     "data": {
      "text/plain": [
       "Text(0.5, 1.0, 'Time Series of value by date time')"
      ]
     },
     "execution_count": 21,
     "metadata": {},
     "output_type": "execute_result"
    },
    {
     "data": {
      "image/png": "[encoded data removed]",
      "text/plain": [
       "<Figure size 864x432 with 1 Axes>"
      ]
     },
     "metadata": {
      "needs_background": "light"
     },
     "output_type": "display_data"
    }
   ],
   "source": [
    "figure, axes = plt.subplots(figsize=(12, 6))\n",
    "axes.plot(adf['Time'], adf['observation'], color='g')\n",
    "anomaliesDF = adf.query('anomaly == 1')\n",
    "axes.scatter(anomaliesDF['Time'].values, anomaliesDF['observation'], color='r')\n",
    "plt.xlabel('Date time')\n",
    "plt.ylabel('observation')\n",
    "plt.title('Time Series of value by date time')"
   ]
  },
  {
   "cell_type": "code",
   "execution_count": 22,
   "metadata": {
    "pycharm": {
     "name": "#%%\n"
    }
   },
   "outputs": [],
   "source": [
    "#fig, (ax1) = plt.subplots(ncols=1, figsize=(24, 16))\n",
    "#ax1.set_title('Scaled')\n",
    "#sns.kdeplot(real_estate, ax=ax1)"
   ]
  },
  {
   "cell_type": "code",
   "execution_count": 23,
   "metadata": {
    "pycharm": {
     "name": "#%%\n"
    }
   },
   "outputs": [],
   "source": [
    "#fig, (ax1) = plt.subplots(ncols=1, figsize=(24, 16))\n",
    "#ax1.set_title('Prediction')\n",
    "#sns.kdeplot(real_estate, ax=ax1)\n",
    "#plt.plot(y_pred, color='red')"
   ]
  },
  {
   "cell_type": "code",
   "execution_count": 24,
   "metadata": {
    "pycharm": {
     "name": "#%%\n"
    }
   },
   "outputs": [
    {
     "name": "stdout",
     "output_type": "stream",
     "text": [
      "              precision    recall  f1-score   support\n",
      "\n",
      "           0       0.95      0.99      0.97       799\n",
      "           1       0.98      0.81      0.88       198\n",
      "\n",
      "   micro avg       0.96      0.96      0.96       997\n",
      "   macro avg       0.96      0.90      0.93       997\n",
      "weighted avg       0.96      0.96      0.96       997\n",
      " samples avg       0.96      0.96      0.96       997\n",
      "\n"
     ]
    }
   ],
   "source": [
    "print(classification_report(y_test, y_pred))"
   ]
  },
  {
   "cell_type": "code",
   "execution_count": 25,
   "metadata": {
    "pycharm": {
     "name": "#%%\n"
    }
   },
   "outputs": [
    {
     "data": {
      "image/png": "[encoded data removed]",
      "text/plain": [
       "<Figure size 720x576 with 2 Axes>"
      ]
     },
     "metadata": {
      "needs_background": "light"
     },
     "output_type": "display_data"
    }
   ],
   "source": [
    "viz = Visualization()\n",
    "y_pred2 = np.argmax(y_pred, axis=1)\n",
    "y_test2 = np.argmax(y_test, axis=1)\n",
    "viz.draw_confusion_matrix(y_test2, y_pred2)"
   ]
  },
  {
   "cell_type": "code",
   "execution_count": null,
   "metadata": {
    "pycharm": {
     "name": "#%%\n"
    }
   },
   "outputs": [],
   "source": [
    "\n"
   ]
  }
 ],
 "metadata": {
  "kernelspec": {
   "display_name": "PyCharm (datascience)",
   "language": "python",
   "name": "pycharm-6a3efb33"
  },
  "language_info": {
   "codemirror_mode": {
    "name": "ipython",
    "version": 3
   },
   "file_extension": ".py",
   "mimetype": "text/x-python",
   "name": "python",
   "nbconvert_exporter": "python",
   "pygments_lexer": "ipython3",
   "version": "3.9.0"
  }
 },
 "nbformat": 4,
 "nbformat_minor": 1
}