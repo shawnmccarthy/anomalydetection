{
 "cells": [
  {
   "cell_type": "code",
   "execution_count": 1,
   "metadata": {},
   "outputs": [],
   "source": [
    "import pandas as pd\n",
    "import numpy as np\n",
    "import tensorflow as tf\n",
    "import os\n",
    "from datetime import datetime\n",
    "from sklearn.metrics import roc_auc_score as auc\n",
    "from sklearn.preprocessing import LabelEncoder\n",
    "from sklearn.preprocessing import StandardScaler\n",
    "import matplotlib.pyplot as plt\n",
    "import matplotlib.gridspec as gridspec\n",
    "%matplotlib inline"
   ]
  },
  {
   "cell_type": "code",
   "execution_count": 2,
   "metadata": {
    "pycharm": {
     "name": "#%%\n"
    }
   },
   "outputs": [],
   "source": [
    "columns = [\"duration\",\n",
    "           \"protocol_type\",\n",
    "           \"service\",\n",
    "           \"flag\",\n",
    "           \"src_bytes\",\n",
    "           \"dst_bytes\",\n",
    "           \"land\",\n",
    "           \"wrong_fragment\",\n",
    "           \"urgent\",\n",
    "           \"hot\",\n",
    "           \"num_failed_logins\",\n",
    "           \"logged_in\",\n",
    "           \"num_compromised\",\n",
    "           \"root_shell\",\n",
    "           \"su_attempted\",\n",
    "           \"num_root\",\n",
    "           \"num_file_creations\",\n",
    "           \"num_shells\",\n",
    "           \"num_access_files\",\n",
    "           \"num_outbound_cmds\",\n",
    "           \"is_host_login\",\n",
    "           \"is_guest_login\",\n",
    "           \"count\",\n",
    "           \"srv_count\",\n",
    "           \"serror_rate\",\n",
    "           \"srv_serror_rate\",\n",
    "           \"rerror_rate\",\n",
    "           \"srv_rerror_rate\",\n",
    "           \"same_srv_rate\",\n",
    "           \"diff_srv_rate\",\n",
    "           \"srv_diff_host_rate\",\n",
    "           \"dst_host_count\",\n",
    "           \"dst_host_srv_count\",\n",
    "           \"dst_home_same_srv_rate\",\n",
    "           \"dst_host_diff_srv_rate\",\n",
    "           \"dst_host_same_src_port_rate\",\n",
    "           \"dst_host_srv_diff_host_rate\",\n",
    "           \"dst_host_serror_rate\",\n",
    "           \"dst_host_srv_serror_rate\",\n",
    "           \"dst_host_rerror_rate\",\n",
    "           \"dst_host_srv_rerror_rate\",\n",
    "           \"label\"]"
   ]
  },
  {
   "cell_type": "code",
   "execution_count": 3,
   "metadata": {
    "pycharm": {
     "is_executing": true,
     "name": "#%%\n"
    }
   },
   "outputs": [
    {
     "data": {
      "text/plain": [
       "<bound method NDFrame.tail of          duration protocol_type flag  src_bytes  dst_bytes  land  \\\n",
       "0               0           tcp   SF        215      45076     0   \n",
       "1               0           tcp   SF        162       4528     0   \n",
       "2               0           tcp   SF        236       1228     0   \n",
       "3               0           tcp   SF        233       2032     0   \n",
       "4               0           tcp   SF        239        486     0   \n",
       "...           ...           ...  ...        ...        ...   ...   \n",
       "4898426         0           tcp   SF        212       2288     0   \n",
       "4898427         0           tcp   SF        219        236     0   \n",
       "4898428         0           tcp   SF        218       3610     0   \n",
       "4898429         0           tcp   SF        219       1234     0   \n",
       "4898430         0           tcp   SF        219       1098     0   \n",
       "\n",
       "         wrong_fragment  urgent  hot  num_failed_logins  ...  \\\n",
       "0                     0       0    0                  0  ...   \n",
       "1                     0       0    0                  0  ...   \n",
       "2                     0       0    0                  0  ...   \n",
       "3                     0       0    0                  0  ...   \n",
       "4                     0       0    0                  0  ...   \n",
       "...                 ...     ...  ...                ...  ...   \n",
       "4898426               0       0    0                  0  ...   \n",
       "4898427               0       0    0                  0  ...   \n",
       "4898428               0       0    0                  0  ...   \n",
       "4898429               0       0    0                  0  ...   \n",
       "4898430               0       0    0                  0  ...   \n",
       "\n",
       "         dst_host_srv_count  dst_home_same_srv_rate  dst_host_diff_srv_rate  \\\n",
       "0                         0                     0.0                     0.0   \n",
       "1                         1                     1.0                     0.0   \n",
       "2                         2                     1.0                     0.0   \n",
       "3                         3                     1.0                     0.0   \n",
       "4                         4                     1.0                     0.0   \n",
       "...                     ...                     ...                     ...   \n",
       "4898426                 255                     1.0                     0.0   \n",
       "4898427                 255                     1.0                     0.0   \n",
       "4898428                 255                     1.0                     0.0   \n",
       "4898429                 255                     1.0                     0.0   \n",
       "4898430                 255                     1.0                     0.0   \n",
       "\n",
       "         dst_host_same_src_port_rate  dst_host_srv_diff_host_rate  \\\n",
       "0                               0.00                         0.00   \n",
       "1                               1.00                         0.00   \n",
       "2                               0.50                         0.00   \n",
       "3                               0.33                         0.00   \n",
       "4                               0.25                         0.00   \n",
       "...                              ...                          ...   \n",
       "4898426                         0.33                         0.05   \n",
       "4898427                         0.25                         0.05   \n",
       "4898428                         0.20                         0.05   \n",
       "4898429                         0.17                         0.05   \n",
       "4898430                         0.14                         0.05   \n",
       "\n",
       "         dst_host_serror_rate  dst_host_srv_serror_rate  dst_host_rerror_rate  \\\n",
       "0                         0.0                      0.00                   0.0   \n",
       "1                         0.0                      0.00                   0.0   \n",
       "2                         0.0                      0.00                   0.0   \n",
       "3                         0.0                      0.00                   0.0   \n",
       "4                         0.0                      0.00                   0.0   \n",
       "...                       ...                       ...                   ...   \n",
       "4898426                   0.0                      0.01                   0.0   \n",
       "4898427                   0.0                      0.01                   0.0   \n",
       "4898428                   0.0                      0.01                   0.0   \n",
       "4898429                   0.0                      0.01                   0.0   \n",
       "4898430                   0.0                      0.01                   0.0   \n",
       "\n",
       "         dst_host_srv_rerror_rate    label  \n",
       "0                             0.0  normal.  \n",
       "1                             0.0  normal.  \n",
       "2                             0.0  normal.  \n",
       "3                             0.0  normal.  \n",
       "4                             0.0  normal.  \n",
       "...                           ...      ...  \n",
       "4898426                       0.0  normal.  \n",
       "4898427                       0.0  normal.  \n",
       "4898428                       0.0  normal.  \n",
       "4898429                       0.0  normal.  \n",
       "4898430                       0.0  normal.  \n",
       "\n",
       "[623091 rows x 41 columns]>"
      ]
     },
     "execution_count": 3,
     "metadata": {},
     "output_type": "execute_result"
    }
   ],
   "source": [
    "df = pd.read_csv(\"/Users/shawnmccarthy/Desktop/Independent Study/IsolationForest/data/kddcup.data\", sep=\",\", names=columns, index_col=None)\n",
    "df.shape\n",
    "\n",
    "#clean up the data\n",
    "df = df[df[\"service\"] == \"http\"]\n",
    "df = df.drop(\"service\", axis=1)\n",
    "columns.remove(\"service\")\n",
    "df.shape\n",
    "\n",
    "df.tail #only http attacks"
   ]
  },
  {
   "cell_type": "code",
   "execution_count": 4,
   "metadata": {
    "pycharm": {
     "is_executing": true,
     "name": "#%%\n"
    }
   },
   "outputs": [
    {
     "data": {
      "text/html": [
       "<div>\n",
       "<style scoped>\n",
       "    .dataframe tbody tr th:only-of-type {\n",
       "        vertical-align: middle;\n",
       "    }\n",
       "\n",
       "    .dataframe tbody tr th {\n",
       "        vertical-align: top;\n",
       "    }\n",
       "\n",
       "    .dataframe thead th {\n",
       "        text-align: right;\n",
       "    }\n",
       "</style>\n",
       "<table border=\"1\" class=\"dataframe\">\n",
       "  <thead>\n",
       "    <tr style=\"text-align: right;\">\n",
       "      <th></th>\n",
       "      <th>duration</th>\n",
       "      <th>protocol_type</th>\n",
       "      <th>flag</th>\n",
       "      <th>src_bytes</th>\n",
       "      <th>dst_bytes</th>\n",
       "      <th>land</th>\n",
       "      <th>wrong_fragment</th>\n",
       "      <th>urgent</th>\n",
       "      <th>hot</th>\n",
       "      <th>num_failed_logins</th>\n",
       "      <th>...</th>\n",
       "      <th>dst_host_srv_count</th>\n",
       "      <th>dst_home_same_srv_rate</th>\n",
       "      <th>dst_host_diff_srv_rate</th>\n",
       "      <th>dst_host_same_src_port_rate</th>\n",
       "      <th>dst_host_srv_diff_host_rate</th>\n",
       "      <th>dst_host_serror_rate</th>\n",
       "      <th>dst_host_srv_serror_rate</th>\n",
       "      <th>dst_host_rerror_rate</th>\n",
       "      <th>dst_host_srv_rerror_rate</th>\n",
       "      <th>label</th>\n",
       "    </tr>\n",
       "  </thead>\n",
       "  <tbody>\n",
       "    <tr>\n",
       "      <th>0</th>\n",
       "      <td>0</td>\n",
       "      <td>0</td>\n",
       "      <td>9</td>\n",
       "      <td>215</td>\n",
       "      <td>45076</td>\n",
       "      <td>0</td>\n",
       "      <td>0</td>\n",
       "      <td>0</td>\n",
       "      <td>0</td>\n",
       "      <td>0</td>\n",
       "      <td>...</td>\n",
       "      <td>0</td>\n",
       "      <td>0.0</td>\n",
       "      <td>0.0</td>\n",
       "      <td>0.00</td>\n",
       "      <td>0.0</td>\n",
       "      <td>0.0</td>\n",
       "      <td>0.0</td>\n",
       "      <td>0.0</td>\n",
       "      <td>0.0</td>\n",
       "      <td>4</td>\n",
       "    </tr>\n",
       "    <tr>\n",
       "      <th>1</th>\n",
       "      <td>0</td>\n",
       "      <td>0</td>\n",
       "      <td>9</td>\n",
       "      <td>162</td>\n",
       "      <td>4528</td>\n",
       "      <td>0</td>\n",
       "      <td>0</td>\n",
       "      <td>0</td>\n",
       "      <td>0</td>\n",
       "      <td>0</td>\n",
       "      <td>...</td>\n",
       "      <td>1</td>\n",
       "      <td>1.0</td>\n",
       "      <td>0.0</td>\n",
       "      <td>1.00</td>\n",
       "      <td>0.0</td>\n",
       "      <td>0.0</td>\n",
       "      <td>0.0</td>\n",
       "      <td>0.0</td>\n",
       "      <td>0.0</td>\n",
       "      <td>4</td>\n",
       "    </tr>\n",
       "    <tr>\n",
       "      <th>2</th>\n",
       "      <td>0</td>\n",
       "      <td>0</td>\n",
       "      <td>9</td>\n",
       "      <td>236</td>\n",
       "      <td>1228</td>\n",
       "      <td>0</td>\n",
       "      <td>0</td>\n",
       "      <td>0</td>\n",
       "      <td>0</td>\n",
       "      <td>0</td>\n",
       "      <td>...</td>\n",
       "      <td>2</td>\n",
       "      <td>1.0</td>\n",
       "      <td>0.0</td>\n",
       "      <td>0.50</td>\n",
       "      <td>0.0</td>\n",
       "      <td>0.0</td>\n",
       "      <td>0.0</td>\n",
       "      <td>0.0</td>\n",
       "      <td>0.0</td>\n",
       "      <td>4</td>\n",
       "    </tr>\n",
       "    <tr>\n",
       "      <th>3</th>\n",
       "      <td>0</td>\n",
       "      <td>0</td>\n",
       "      <td>9</td>\n",
       "      <td>233</td>\n",
       "      <td>2032</td>\n",
       "      <td>0</td>\n",
       "      <td>0</td>\n",
       "      <td>0</td>\n",
       "      <td>0</td>\n",
       "      <td>0</td>\n",
       "      <td>...</td>\n",
       "      <td>3</td>\n",
       "      <td>1.0</td>\n",
       "      <td>0.0</td>\n",
       "      <td>0.33</td>\n",
       "      <td>0.0</td>\n",
       "      <td>0.0</td>\n",
       "      <td>0.0</td>\n",
       "      <td>0.0</td>\n",
       "      <td>0.0</td>\n",
       "      <td>4</td>\n",
       "    </tr>\n",
       "    <tr>\n",
       "      <th>4</th>\n",
       "      <td>0</td>\n",
       "      <td>0</td>\n",
       "      <td>9</td>\n",
       "      <td>239</td>\n",
       "      <td>486</td>\n",
       "      <td>0</td>\n",
       "      <td>0</td>\n",
       "      <td>0</td>\n",
       "      <td>0</td>\n",
       "      <td>0</td>\n",
       "      <td>...</td>\n",
       "      <td>4</td>\n",
       "      <td>1.0</td>\n",
       "      <td>0.0</td>\n",
       "      <td>0.25</td>\n",
       "      <td>0.0</td>\n",
       "      <td>0.0</td>\n",
       "      <td>0.0</td>\n",
       "      <td>0.0</td>\n",
       "      <td>0.0</td>\n",
       "      <td>4</td>\n",
       "    </tr>\n",
       "  </tbody>\n",
       "</table>\n",
       "<p>5 rows × 41 columns</p>\n",
       "</div>"
      ],
      "text/plain": [
       "   duration  protocol_type  flag  src_bytes  dst_bytes  land  wrong_fragment  \\\n",
       "0         0              0     9        215      45076     0               0   \n",
       "1         0              0     9        162       4528     0               0   \n",
       "2         0              0     9        236       1228     0               0   \n",
       "3         0              0     9        233       2032     0               0   \n",
       "4         0              0     9        239        486     0               0   \n",
       "\n",
       "   urgent  hot  num_failed_logins  ...  dst_host_srv_count  \\\n",
       "0       0    0                  0  ...                   0   \n",
       "1       0    0                  0  ...                   1   \n",
       "2       0    0                  0  ...                   2   \n",
       "3       0    0                  0  ...                   3   \n",
       "4       0    0                  0  ...                   4   \n",
       "\n",
       "   dst_home_same_srv_rate  dst_host_diff_srv_rate  \\\n",
       "0                     0.0                     0.0   \n",
       "1                     1.0                     0.0   \n",
       "2                     1.0                     0.0   \n",
       "3                     1.0                     0.0   \n",
       "4                     1.0                     0.0   \n",
       "\n",
       "   dst_host_same_src_port_rate  dst_host_srv_diff_host_rate  \\\n",
       "0                         0.00                          0.0   \n",
       "1                         1.00                          0.0   \n",
       "2                         0.50                          0.0   \n",
       "3                         0.33                          0.0   \n",
       "4                         0.25                          0.0   \n",
       "\n",
       "   dst_host_serror_rate  dst_host_srv_serror_rate  dst_host_rerror_rate  \\\n",
       "0                   0.0                       0.0                   0.0   \n",
       "1                   0.0                       0.0                   0.0   \n",
       "2                   0.0                       0.0                   0.0   \n",
       "3                   0.0                       0.0                   0.0   \n",
       "4                   0.0                       0.0                   0.0   \n",
       "\n",
       "   dst_host_srv_rerror_rate  label  \n",
       "0                       0.0      4  \n",
       "1                       0.0      4  \n",
       "2                       0.0      4  \n",
       "3                       0.0      4  \n",
       "4                       0.0      4  \n",
       "\n",
       "[5 rows x 41 columns]"
      ]
     },
     "execution_count": 4,
     "metadata": {},
     "output_type": "execute_result"
    }
   ],
   "source": [
    "for col in df.columns:\n",
    "    if df[col].dtype == \"object\":\n",
    "        encoded = LabelEncoder()\n",
    "        encoded.fit(df[col])\n",
    "        df[col] = encoded.transform(df[col])\n",
    "\n",
    "df.head(5)"
   ]
  },
  {
   "cell_type": "code",
   "execution_count": 5,
   "metadata": {
    "pycharm": {
     "is_executing": true,
     "name": "#%%\n"
    }
   },
   "outputs": [
    {
     "data": {
      "text/plain": [
       "(54045, 41)"
      ]
     },
     "execution_count": 5,
     "metadata": {},
     "output_type": "execute_result"
    }
   ],
   "source": [
    "anomalies = df[df[\"label\"] != 4]\n",
    "normal = df[df[\"label\"] == 4]\n",
    "\n",
    "for f in range(0,10):\n",
    "    normal = normal.iloc[np.random.permutation(len(normal))]\n",
    "\n",
    "novelties = pd.concat([normal[:50000], anomalies])\n",
    "novelties.shape"
   ]
  },
  {
   "cell_type": "code",
   "execution_count": 6,
   "metadata": {
    "pycharm": {
     "is_executing": true,
     "name": "#%%\n"
    }
   },
   "outputs": [
    {
     "name": "stdout",
     "output_type": "stream",
     "text": [
      "         duration  protocol_type  flag  src_bytes  dst_bytes  land  \\\n",
      "58467           0              0     9        168       1078     0   \n",
      "203232          0              0     9        231        364     0   \n",
      "...           ...            ...   ...        ...        ...   ...   \n",
      "4764841         0              0     9      54540       8314     0   \n",
      "4764842         0              0     9      54540       8314     0   \n",
      "\n",
      "         wrong_fragment  urgent  hot  num_failed_logins  logged_in  \\\n",
      "58467                 0       0    0                  0          1   \n",
      "203232                0       0    0                  0          1   \n",
      "...                 ...     ...  ...                ...        ...   \n",
      "4764841               0       0    2                  0          1   \n",
      "4764842               0       0    2                  0          1   \n",
      "\n",
      "         num_compromised  root_shell  su_attempted  num_root  \\\n",
      "58467                  0           0             0         0   \n",
      "203232                 0           0             0         0   \n",
      "...                  ...         ...           ...       ...   \n",
      "4764841                1           0             0         0   \n",
      "4764842                1           0             0         0   \n",
      "\n",
      "         num_file_creations  num_shells  num_access_files  num_outbound_cmds  \\\n",
      "58467                     0           0                 0                  0   \n",
      "203232                    0           0                 0                  0   \n",
      "...                     ...         ...               ...                ...   \n",
      "4764841                   0           0                 0                  0   \n",
      "4764842                   0           0                 0                  0   \n",
      "\n",
      "         is_host_login  is_guest_login  count  srv_count  serror_rate  \\\n",
      "58467                0               0      1         18          0.0   \n",
      "203232               0               0      2          2          0.0   \n",
      "...                ...             ...    ...        ...          ...   \n",
      "4764841              0               0      3          3          0.0   \n",
      "4764842              0               0      3          3          0.0   \n",
      "\n",
      "         srv_serror_rate  rerror_rate  srv_rerror_rate  same_srv_rate  \\\n",
      "58467                0.0          0.0              0.0            1.0   \n",
      "203232               0.0          0.0              0.0            1.0   \n",
      "...                  ...          ...              ...            ...   \n",
      "4764841              0.0          0.0              0.0            1.0   \n",
      "4764842              0.0          0.0              0.0            1.0   \n",
      "\n",
      "         diff_srv_rate  srv_diff_host_rate  dst_host_count  \\\n",
      "58467              0.0                0.11              15   \n",
      "203232             0.0                0.00               2   \n",
      "...                ...                 ...             ...   \n",
      "4764841            0.0                0.00              99   \n",
      "4764842            0.0                0.00             100   \n",
      "\n",
      "         dst_host_srv_count  dst_home_same_srv_rate  dst_host_diff_srv_rate  \\\n",
      "58467                   255                     1.0                     0.0   \n",
      "203232                  255                     1.0                     0.0   \n",
      "...                     ...                     ...                     ...   \n",
      "4764841                  99                     1.0                     0.0   \n",
      "4764842                 100                     1.0                     0.0   \n",
      "\n",
      "         dst_host_same_src_port_rate  dst_host_srv_diff_host_rate  \\\n",
      "58467                           0.07                         0.01   \n",
      "203232                          0.50                         0.05   \n",
      "...                              ...                          ...   \n",
      "4764841                         0.01                         0.00   \n",
      "4764842                         0.01                         0.00   \n",
      "\n",
      "         dst_host_serror_rate  dst_host_srv_serror_rate  dst_host_rerror_rate  \\\n",
      "58467                    0.00                      0.00                  0.00   \n",
      "203232                   0.00                      0.00                  0.00   \n",
      "...                       ...                       ...                   ...   \n",
      "4764841                  0.01                      0.01                  0.01   \n",
      "4764842                  0.01                      0.01                  0.01   \n",
      "\n",
      "         dst_host_srv_rerror_rate  label  \n",
      "58467                        0.00      4  \n",
      "203232                       0.00      4  \n",
      "...                           ...    ...  \n",
      "4764841                      0.01      0  \n",
      "4764842                      0.01      0  \n",
      "\n",
      "[54045 rows x 41 columns]\n"
     ]
    }
   ],
   "source": [
    "with pd.option_context('display.max_rows', 5, 'display.max_columns', 41):\n",
    "    print(novelties)"
   ]
  },
  {
   "cell_type": "code",
   "execution_count": 7,
   "metadata": {
    "pycharm": {
     "name": "#%%\n"
    }
   },
   "outputs": [
    {
     "data": {
      "text/html": [
       "<div>\n",
       "<style scoped>\n",
       "    .dataframe tbody tr th:only-of-type {\n",
       "        vertical-align: middle;\n",
       "    }\n",
       "\n",
       "    .dataframe tbody tr th {\n",
       "        vertical-align: top;\n",
       "    }\n",
       "\n",
       "    .dataframe thead th {\n",
       "        text-align: right;\n",
       "    }\n",
       "</style>\n",
       "<table border=\"1\" class=\"dataframe\">\n",
       "  <thead>\n",
       "    <tr style=\"text-align: right;\">\n",
       "      <th></th>\n",
       "      <th>duration</th>\n",
       "      <th>protocol_type</th>\n",
       "      <th>flag</th>\n",
       "      <th>src_bytes</th>\n",
       "      <th>dst_bytes</th>\n",
       "      <th>land</th>\n",
       "      <th>wrong_fragment</th>\n",
       "      <th>urgent</th>\n",
       "      <th>hot</th>\n",
       "      <th>num_failed_logins</th>\n",
       "      <th>...</th>\n",
       "      <th>dst_host_srv_count</th>\n",
       "      <th>dst_home_same_srv_rate</th>\n",
       "      <th>dst_host_diff_srv_rate</th>\n",
       "      <th>dst_host_same_src_port_rate</th>\n",
       "      <th>dst_host_srv_diff_host_rate</th>\n",
       "      <th>dst_host_serror_rate</th>\n",
       "      <th>dst_host_srv_serror_rate</th>\n",
       "      <th>dst_host_rerror_rate</th>\n",
       "      <th>dst_host_srv_rerror_rate</th>\n",
       "      <th>label</th>\n",
       "    </tr>\n",
       "  </thead>\n",
       "  <tbody>\n",
       "    <tr>\n",
       "      <th>58467</th>\n",
       "      <td>-0.007414</td>\n",
       "      <td>0</td>\n",
       "      <td>9</td>\n",
       "      <td>-0.211550</td>\n",
       "      <td>-0.189777</td>\n",
       "      <td>0.0</td>\n",
       "      <td>0.0</td>\n",
       "      <td>0.0</td>\n",
       "      <td>-0.210703</td>\n",
       "      <td>0.0</td>\n",
       "      <td>...</td>\n",
       "      <td>0.328756</td>\n",
       "      <td>0.197612</td>\n",
       "      <td>-0.125488</td>\n",
       "      <td>0.005130</td>\n",
       "      <td>-0.386653</td>\n",
       "      <td>-0.181465</td>\n",
       "      <td>-0.179297</td>\n",
       "      <td>-0.320743</td>\n",
       "      <td>-0.324199</td>\n",
       "      <td>4</td>\n",
       "    </tr>\n",
       "    <tr>\n",
       "      <th>203232</th>\n",
       "      <td>-0.007414</td>\n",
       "      <td>0</td>\n",
       "      <td>9</td>\n",
       "      <td>-0.205653</td>\n",
       "      <td>-0.234166</td>\n",
       "      <td>0.0</td>\n",
       "      <td>0.0</td>\n",
       "      <td>0.0</td>\n",
       "      <td>-0.210703</td>\n",
       "      <td>0.0</td>\n",
       "      <td>...</td>\n",
       "      <td>0.328756</td>\n",
       "      <td>0.197612</td>\n",
       "      <td>-0.125488</td>\n",
       "      <td>2.413440</td>\n",
       "      <td>0.401291</td>\n",
       "      <td>-0.181465</td>\n",
       "      <td>-0.179297</td>\n",
       "      <td>-0.320743</td>\n",
       "      <td>-0.324199</td>\n",
       "      <td>4</td>\n",
       "    </tr>\n",
       "    <tr>\n",
       "      <th>500036</th>\n",
       "      <td>-0.007414</td>\n",
       "      <td>0</td>\n",
       "      <td>9</td>\n",
       "      <td>-0.205185</td>\n",
       "      <td>-0.117598</td>\n",
       "      <td>0.0</td>\n",
       "      <td>0.0</td>\n",
       "      <td>0.0</td>\n",
       "      <td>-0.210703</td>\n",
       "      <td>0.0</td>\n",
       "      <td>...</td>\n",
       "      <td>0.293975</td>\n",
       "      <td>0.135553</td>\n",
       "      <td>0.307839</td>\n",
       "      <td>-0.386921</td>\n",
       "      <td>-0.583639</td>\n",
       "      <td>-0.181465</td>\n",
       "      <td>-0.179297</td>\n",
       "      <td>-0.247090</td>\n",
       "      <td>-0.248880</td>\n",
       "      <td>4</td>\n",
       "    </tr>\n",
       "    <tr>\n",
       "      <th>1046690</th>\n",
       "      <td>-0.007414</td>\n",
       "      <td>0</td>\n",
       "      <td>9</td>\n",
       "      <td>-0.197790</td>\n",
       "      <td>-0.237772</td>\n",
       "      <td>0.0</td>\n",
       "      <td>0.0</td>\n",
       "      <td>0.0</td>\n",
       "      <td>-0.210703</td>\n",
       "      <td>0.0</td>\n",
       "      <td>...</td>\n",
       "      <td>0.328756</td>\n",
       "      <td>0.197612</td>\n",
       "      <td>-0.125488</td>\n",
       "      <td>1.013259</td>\n",
       "      <td>-0.189667</td>\n",
       "      <td>-0.181465</td>\n",
       "      <td>-0.179297</td>\n",
       "      <td>-0.320743</td>\n",
       "      <td>-0.324199</td>\n",
       "      <td>4</td>\n",
       "    </tr>\n",
       "    <tr>\n",
       "      <th>1409952</th>\n",
       "      <td>-0.007414</td>\n",
       "      <td>0</td>\n",
       "      <td>1</td>\n",
       "      <td>-0.227276</td>\n",
       "      <td>-0.256796</td>\n",
       "      <td>0.0</td>\n",
       "      <td>0.0</td>\n",
       "      <td>0.0</td>\n",
       "      <td>-0.210703</td>\n",
       "      <td>0.0</td>\n",
       "      <td>...</td>\n",
       "      <td>0.328756</td>\n",
       "      <td>0.197612</td>\n",
       "      <td>-0.125488</td>\n",
       "      <td>2.413440</td>\n",
       "      <td>1.386220</td>\n",
       "      <td>-0.181465</td>\n",
       "      <td>-0.179297</td>\n",
       "      <td>3.361891</td>\n",
       "      <td>2.274299</td>\n",
       "      <td>4</td>\n",
       "    </tr>\n",
       "  </tbody>\n",
       "</table>\n",
       "<p>5 rows × 41 columns</p>\n",
       "</div>"
      ],
      "text/plain": [
       "         duration  protocol_type  flag  src_bytes  dst_bytes  land  \\\n",
       "58467   -0.007414              0     9  -0.211550  -0.189777   0.0   \n",
       "203232  -0.007414              0     9  -0.205653  -0.234166   0.0   \n",
       "500036  -0.007414              0     9  -0.205185  -0.117598   0.0   \n",
       "1046690 -0.007414              0     9  -0.197790  -0.237772   0.0   \n",
       "1409952 -0.007414              0     1  -0.227276  -0.256796   0.0   \n",
       "\n",
       "         wrong_fragment  urgent       hot  num_failed_logins  ...  \\\n",
       "58467               0.0     0.0 -0.210703                0.0  ...   \n",
       "203232              0.0     0.0 -0.210703                0.0  ...   \n",
       "500036              0.0     0.0 -0.210703                0.0  ...   \n",
       "1046690             0.0     0.0 -0.210703                0.0  ...   \n",
       "1409952             0.0     0.0 -0.210703                0.0  ...   \n",
       "\n",
       "         dst_host_srv_count  dst_home_same_srv_rate  dst_host_diff_srv_rate  \\\n",
       "58467              0.328756                0.197612               -0.125488   \n",
       "203232             0.328756                0.197612               -0.125488   \n",
       "500036             0.293975                0.135553                0.307839   \n",
       "1046690            0.328756                0.197612               -0.125488   \n",
       "1409952            0.328756                0.197612               -0.125488   \n",
       "\n",
       "         dst_host_same_src_port_rate  dst_host_srv_diff_host_rate  \\\n",
       "58467                       0.005130                    -0.386653   \n",
       "203232                      2.413440                     0.401291   \n",
       "500036                     -0.386921                    -0.583639   \n",
       "1046690                     1.013259                    -0.189667   \n",
       "1409952                     2.413440                     1.386220   \n",
       "\n",
       "         dst_host_serror_rate  dst_host_srv_serror_rate  dst_host_rerror_rate  \\\n",
       "58467               -0.181465                 -0.179297             -0.320743   \n",
       "203232              -0.181465                 -0.179297             -0.320743   \n",
       "500036              -0.181465                 -0.179297             -0.247090   \n",
       "1046690             -0.181465                 -0.179297             -0.320743   \n",
       "1409952             -0.181465                 -0.179297              3.361891   \n",
       "\n",
       "         dst_host_srv_rerror_rate  label  \n",
       "58467                   -0.324199      4  \n",
       "203232                  -0.324199      4  \n",
       "500036                  -0.248880      4  \n",
       "1046690                 -0.324199      4  \n",
       "1409952                  2.274299      4  \n",
       "\n",
       "[5 rows x 41 columns]"
      ]
     },
     "execution_count": 7,
     "metadata": {},
     "output_type": "execute_result"
    }
   ],
   "source": [
    "for c in columns:\n",
    "    if (c != \"protocol_type\" and c != \"flag\" and c != \"label\"):\n",
    "        novelties[c] = StandardScaler().fit_transform(novelties[c].values.reshape(-1,1))\n",
    "\n",
    "novelties.head()"
   ]
  },
  {
   "cell_type": "code",
   "execution_count": 8,
   "metadata": {
    "pycharm": {
     "name": "#%%\n"
    }
   },
   "outputs": [],
   "source": [
    "train_x = novelties.iloc[:43000, 1:-2].values\n",
    "train_y = novelties.iloc[:43000, -1].values\n",
    "\n",
    "test_x = novelties.iloc[43000:, 1:-2].values\n",
    "test_x_full = novelties.iloc[43000:].values\n",
    "test_y = novelties.iloc[43000:, -1].values"
   ]
  },
  {
   "cell_type": "code",
   "execution_count": 9,
   "metadata": {
    "pycharm": {
     "name": "#%%\n"
    }
   },
   "outputs": [
    {
     "name": "stdout",
     "output_type": "stream",
     "text": [
      "WARNING:tensorflow:From /usr/local/Cellar/python@3.9/3.9.0_1/Frameworks/Python.framework/Versions/3.9/lib/python3.9/site-packages/tensorflow/python/compat/v2_compat.py:101: disable_resource_variables (from tensorflow.python.ops.variable_scope) is deprecated and will be removed in a future version.\n",
      "Instructions for updating:\n",
      "non-resource variables are not supported in the long term\n"
     ]
    }
   ],
   "source": [
    "from rbm import RBM"
   ]
  },
  {
   "cell_type": "code",
   "execution_count": 10,
   "metadata": {
    "pycharm": {
     "name": "#%%\n"
    }
   },
   "outputs": [],
   "source": [
    "model = RBM(train_x.shape[1], 20, visible_unit_type='gauss', main_dir='./', model_name='rbm_model2.ckpt',\n",
    "                 gibbs_sampling_steps=4, learning_rate=0.001, momentum = 0.95, batch_size=512, num_epochs=20, verbose=1)"
   ]
  },
  {
   "cell_type": "code",
   "execution_count": 11,
   "metadata": {
    "pycharm": {
     "name": "#%%\n"
    }
   },
   "outputs": [
    {
     "name": "stdout",
     "output_type": "stream",
     "text": [
      "Validation cost at step 0: 1.465921\n",
      "Validation cost at step 1: 1.453817\n",
      "Validation cost at step 2: 1.4010525\n",
      "Validation cost at step 3: 1.4029335\n",
      "Validation cost at step 4: 1.4219633\n",
      "Validation cost at step 5: 1.4036572\n",
      "Validation cost at step 6: 1.3901647\n",
      "Validation cost at step 7: 1.4016823\n",
      "Validation cost at step 8: 1.3898687\n",
      "Validation cost at step 9: 1.4002732\n",
      "Validation cost at step 10: 1.3972083\n",
      "Validation cost at step 11: 1.4036243\n",
      "Validation cost at step 12: 1.3906533\n",
      "Validation cost at step 13: 1.3883729\n",
      "Validation cost at step 14: 1.3819394\n",
      "Validation cost at step 15: 1.3735157\n",
      "Validation cost at step 16: 1.3830054\n",
      "Validation cost at step 17: 1.3888072\n",
      "Validation cost at step 18: 1.3806039\n",
      "Validation cost at step 19: 1.3776238\n"
     ]
    },
    {
     "data": {
      "image/png": "[encoded data removed]",
      "text/plain": [
       "<Figure size 432x288 with 1 Axes>"
      ]
     },
     "metadata": {
      "needs_background": "light"
     },
     "output_type": "display_data"
    }
   ],
   "source": [
    "model.fit(train_x, validation_set=test_x)"
   ]
  },
  {
   "cell_type": "code",
   "execution_count": 12,
   "metadata": {
    "pycharm": {
     "name": "#%%\n"
    }
   },
   "outputs": [],
   "source": [
    "for f in range(0, len(test_y)):\n",
    "    if test_y[f] == 4:\n",
    "        test_y[f] = 0\n",
    "    else:\n",
    "        test_y[f] = 1"
   ]
  },
  {
   "cell_type": "code",
   "execution_count": 13,
   "metadata": {
    "pycharm": {
     "name": "#%%\n"
    }
   },
   "outputs": [
    {
     "name": "stdout",
     "output_type": "stream",
     "text": [
      "INFO:tensorflow:Restoring parameters from ./rbm_model2.ckpt\n"
     ]
    }
   ],
   "source": [
    "test_cost = model.getFreeEnergy(test_x).reshape(-1)"
   ]
  },
  {
   "cell_type": "code",
   "execution_count": 14,
   "metadata": {
    "pycharm": {
     "name": "#%%\n"
    }
   },
   "outputs": [
    {
     "data": {
      "text/plain": [
       "0.9954053328624405"
      ]
     },
     "execution_count": 14,
     "metadata": {},
     "output_type": "execute_result"
    }
   ],
   "source": [
    "auc(test_y, test_cost)"
   ]
  },
  {
   "cell_type": "code",
   "execution_count": 15,
   "metadata": {
    "pycharm": {
     "name": "#%%\n"
    }
   },
   "outputs": [
    {
     "data": {
      "image/png": "[encoded data removed]",
      "text/plain": [
       "<Figure size 432x288 with 1 Axes>"
      ]
     },
     "metadata": {
      "needs_background": "light"
     },
     "output_type": "display_data"
    }
   ],
   "source": [
    "from sklearn.metrics import roc_curve, auc\n",
    "fpr, tpr, _ = roc_curve(test_y, test_cost)\n",
    "\n",
    "fpr_micro, tpr_micro, _ = roc_curve(test_y, test_cost)\n",
    "roc_auc = auc(fpr_micro, tpr_micro)\n",
    "\n",
    "plt.plot(fpr, tpr, color='darkorange',\n",
    "         lw=2, label='ROC curve (area = %0.2f)' % roc_auc)\n",
    "plt.plot([0, 1], [0, 1], color='navy', lw=2, linestyle='--')\n",
    "plt.xlim([0.0, 1.0])\n",
    "plt.ylim([0.0, 1.05])\n",
    "plt.xlabel('False Positive Rate')\n",
    "plt.ylabel('True Positive Rate')\n",
    "plt.title('ROC curve on val data set')\n",
    "plt.legend(loc=\"lower right\")\n",
    "plt.show()"
   ]
  },
  {
   "cell_type": "code",
   "execution_count": 16,
   "metadata": {
    "pycharm": {
     "name": "#%%\n"
    }
   },
   "outputs": [
    {
     "data": {
      "image/png": "[encoded data removed]",
      "text/plain": [
       "<Figure size 432x288 with 1 Axes>"
      ]
     },
     "metadata": {
      "needs_background": "light"
     },
     "output_type": "display_data"
    }
   ],
   "source": [
    "#plt.hist(test_cost[np.where(test_y == 1)], bins = 100)\n",
    "plt.title('Free energy distribution of val set')\n",
    "plt.xlabel('Free energy')\n",
    "plt.ylabel('Probabilties')\n",
    "plt.hist(test_cost[(test_y == 0) & (test_cost < 500)], bins = 100, color='green', density=1.0, label='Non-Attack')\n",
    "plt.hist(test_cost[(test_y == 1) & (test_cost < 500)], bins = 100, color='red', density=1.0, label = 'Attack')\n",
    "\n",
    "plt.legend(loc=\"upper right\")\n",
    "plt.show()"
   ]
  },
  {
   "cell_type": "code",
   "execution_count": 17,
   "metadata": {
    "pycharm": {
     "name": "#%%\n"
    }
   },
   "outputs": [
    {
     "data": {
      "image/png": "[encoded data removed]",
      "text/plain": [
       "<Figure size 432x288 with 1 Axes>"
      ]
     },
     "metadata": {
      "needs_background": "light"
     },
     "output_type": "display_data"
    }
   ],
   "source": [
    "#plt.hist(test_cost[np.where(test_y == 1)], bins = 100)\n",
    "plt.hist(test_cost[(test_y == 0) & (test_cost < 500)], bins = 100, color='green', density=1)\n",
    "plt.title('Free energy distribution of non-attack cases')\n",
    "plt.xlabel('Free energy')\n",
    "plt.ylabel('Probabilities')\n",
    "plt.show()"
   ]
  },
  {
   "cell_type": "code",
   "execution_count": 18,
   "metadata": {
    "pycharm": {
     "name": "#%%\n"
    }
   },
   "outputs": [
    {
     "data": {
      "image/png": "[encoded data removed]",
      "text/plain": [
       "<Figure size 432x288 with 1 Axes>"
      ]
     },
     "metadata": {
      "needs_background": "light"
     },
     "output_type": "display_data"
    }
   ],
   "source": [
    "#plt.hist(test_cost[np.where(test_y == 1)], bins = 100)\n",
    "plt.hist(test_cost[(test_y == 1) & (test_cost < 500)], bins = 100, color='red', density=1)\n",
    "plt.title('Free energy distribution of attack cases')\n",
    "plt.xlabel('Free energy')\n",
    "plt.ylabel('Probabilities')\n",
    "plt.show()"
   ]
  },
  {
   "cell_type": "code",
   "execution_count": 19,
   "metadata": {
    "pycharm": {
     "name": "#%%\n"
    }
   },
   "outputs": [
    {
     "data": {
      "text/html": [
       "<div>\n",
       "<style scoped>\n",
       "    .dataframe tbody tr th:only-of-type {\n",
       "        vertical-align: middle;\n",
       "    }\n",
       "\n",
       "    .dataframe tbody tr th {\n",
       "        vertical-align: top;\n",
       "    }\n",
       "\n",
       "    .dataframe thead th {\n",
       "        text-align: right;\n",
       "    }\n",
       "</style>\n",
       "<table border=\"1\" class=\"dataframe\">\n",
       "  <thead>\n",
       "    <tr style=\"text-align: right;\">\n",
       "      <th></th>\n",
       "      <th>0</th>\n",
       "      <th>1</th>\n",
       "      <th>2</th>\n",
       "      <th>3</th>\n",
       "      <th>4</th>\n",
       "      <th>5</th>\n",
       "      <th>6</th>\n",
       "      <th>7</th>\n",
       "      <th>8</th>\n",
       "      <th>9</th>\n",
       "      <th>...</th>\n",
       "      <th>31</th>\n",
       "      <th>32</th>\n",
       "      <th>33</th>\n",
       "      <th>34</th>\n",
       "      <th>35</th>\n",
       "      <th>36</th>\n",
       "      <th>37</th>\n",
       "      <th>38</th>\n",
       "      <th>39</th>\n",
       "      <th>40</th>\n",
       "    </tr>\n",
       "  </thead>\n",
       "  <tbody>\n",
       "    <tr>\n",
       "      <th>0</th>\n",
       "      <td>-0.007414</td>\n",
       "      <td>0.0</td>\n",
       "      <td>5.0</td>\n",
       "      <td>-0.227276</td>\n",
       "      <td>-0.256796</td>\n",
       "      <td>0.0</td>\n",
       "      <td>0.0</td>\n",
       "      <td>0.0</td>\n",
       "      <td>-0.210703</td>\n",
       "      <td>0.0</td>\n",
       "      <td>...</td>\n",
       "      <td>-4.088409</td>\n",
       "      <td>-6.008253</td>\n",
       "      <td>13.307636</td>\n",
       "      <td>2.581461</td>\n",
       "      <td>-0.583639</td>\n",
       "      <td>-0.122522</td>\n",
       "      <td>5.715912</td>\n",
       "      <td>1.594227</td>\n",
       "      <td>-0.324199</td>\n",
       "      <td>6.0</td>\n",
       "    </tr>\n",
       "    <tr>\n",
       "      <th>1</th>\n",
       "      <td>-0.007414</td>\n",
       "      <td>0.0</td>\n",
       "      <td>5.0</td>\n",
       "      <td>-0.227276</td>\n",
       "      <td>-0.256796</td>\n",
       "      <td>0.0</td>\n",
       "      <td>0.0</td>\n",
       "      <td>0.0</td>\n",
       "      <td>-0.210703</td>\n",
       "      <td>0.0</td>\n",
       "      <td>...</td>\n",
       "      <td>-4.071019</td>\n",
       "      <td>-5.946194</td>\n",
       "      <td>13.307636</td>\n",
       "      <td>2.581461</td>\n",
       "      <td>-0.583639</td>\n",
       "      <td>-0.063578</td>\n",
       "      <td>5.715912</td>\n",
       "      <td>1.594227</td>\n",
       "      <td>-0.324199</td>\n",
       "      <td>6.0</td>\n",
       "    </tr>\n",
       "    <tr>\n",
       "      <th>2</th>\n",
       "      <td>-0.001778</td>\n",
       "      <td>0.0</td>\n",
       "      <td>3.0</td>\n",
       "      <td>-0.227183</td>\n",
       "      <td>-0.256796</td>\n",
       "      <td>0.0</td>\n",
       "      <td>0.0</td>\n",
       "      <td>0.0</td>\n",
       "      <td>-0.210703</td>\n",
       "      <td>0.0</td>\n",
       "      <td>...</td>\n",
       "      <td>-4.053628</td>\n",
       "      <td>-5.946194</td>\n",
       "      <td>13.307636</td>\n",
       "      <td>2.581461</td>\n",
       "      <td>-0.583639</td>\n",
       "      <td>-0.063578</td>\n",
       "      <td>3.770493</td>\n",
       "      <td>1.594227</td>\n",
       "      <td>0.918561</td>\n",
       "      <td>6.0</td>\n",
       "    </tr>\n",
       "    <tr>\n",
       "      <th>3</th>\n",
       "      <td>-0.007414</td>\n",
       "      <td>0.0</td>\n",
       "      <td>1.0</td>\n",
       "      <td>-0.227276</td>\n",
       "      <td>-0.256796</td>\n",
       "      <td>0.0</td>\n",
       "      <td>0.0</td>\n",
       "      <td>0.0</td>\n",
       "      <td>-0.210703</td>\n",
       "      <td>0.0</td>\n",
       "      <td>...</td>\n",
       "      <td>-0.732060</td>\n",
       "      <td>-5.884136</td>\n",
       "      <td>43.207169</td>\n",
       "      <td>-0.274906</td>\n",
       "      <td>0.204305</td>\n",
       "      <td>-0.181465</td>\n",
       "      <td>-0.179297</td>\n",
       "      <td>3.104107</td>\n",
       "      <td>-0.286540</td>\n",
       "      <td>1.0</td>\n",
       "    </tr>\n",
       "    <tr>\n",
       "      <th>4</th>\n",
       "      <td>-0.007414</td>\n",
       "      <td>0.0</td>\n",
       "      <td>1.0</td>\n",
       "      <td>-0.227276</td>\n",
       "      <td>-0.256796</td>\n",
       "      <td>0.0</td>\n",
       "      <td>0.0</td>\n",
       "      <td>0.0</td>\n",
       "      <td>-0.210703</td>\n",
       "      <td>0.0</td>\n",
       "      <td>...</td>\n",
       "      <td>-4.071019</td>\n",
       "      <td>-5.884136</td>\n",
       "      <td>43.207169</td>\n",
       "      <td>-0.274906</td>\n",
       "      <td>19.114946</td>\n",
       "      <td>-0.181465</td>\n",
       "      <td>-0.179297</td>\n",
       "      <td>3.067281</td>\n",
       "      <td>3.441740</td>\n",
       "      <td>1.0</td>\n",
       "    </tr>\n",
       "  </tbody>\n",
       "</table>\n",
       "<p>5 rows × 41 columns</p>\n",
       "</div>"
      ],
      "text/plain": [
       "         0    1    2         3         4    5    6    7         8    9   ...  \\\n",
       "0 -0.007414  0.0  5.0 -0.227276 -0.256796  0.0  0.0  0.0 -0.210703  0.0  ...   \n",
       "1 -0.007414  0.0  5.0 -0.227276 -0.256796  0.0  0.0  0.0 -0.210703  0.0  ...   \n",
       "2 -0.001778  0.0  3.0 -0.227183 -0.256796  0.0  0.0  0.0 -0.210703  0.0  ...   \n",
       "3 -0.007414  0.0  1.0 -0.227276 -0.256796  0.0  0.0  0.0 -0.210703  0.0  ...   \n",
       "4 -0.007414  0.0  1.0 -0.227276 -0.256796  0.0  0.0  0.0 -0.210703  0.0  ...   \n",
       "\n",
       "         31        32         33        34         35        36        37  \\\n",
       "0 -4.088409 -6.008253  13.307636  2.581461  -0.583639 -0.122522  5.715912   \n",
       "1 -4.071019 -5.946194  13.307636  2.581461  -0.583639 -0.063578  5.715912   \n",
       "2 -4.053628 -5.946194  13.307636  2.581461  -0.583639 -0.063578  3.770493   \n",
       "3 -0.732060 -5.884136  43.207169 -0.274906   0.204305 -0.181465 -0.179297   \n",
       "4 -4.071019 -5.884136  43.207169 -0.274906  19.114946 -0.181465 -0.179297   \n",
       "\n",
       "         38        39   40  \n",
       "0  1.594227 -0.324199  6.0  \n",
       "1  1.594227 -0.324199  6.0  \n",
       "2  1.594227  0.918561  6.0  \n",
       "3  3.104107 -0.286540  1.0  \n",
       "4  3.067281  3.441740  1.0  \n",
       "\n",
       "[5 rows x 41 columns]"
      ]
     },
     "execution_count": 19,
     "metadata": {},
     "output_type": "execute_result"
    }
   ],
   "source": [
    "anomaly = pd.DataFrame(test_x_full[test_y==1])\n",
    "anomaly.head()"
   ]
  },
  {
   "cell_type": "code",
   "execution_count": null,
   "metadata": {
    "pycharm": {
     "name": "#%%\n"
    }
   },
   "outputs": [],
   "source": []
  }
 ],
 "metadata": {
  "kernelspec": {
   "display_name": "PyCharm (datascience)",
   "language": "python",
   "name": "pycharm-6a3efb33"
  },
  "language_info": {
   "codemirror_mode": {
    "name": "ipython",
    "version": 3
   },
   "file_extension": ".py",
   "mimetype": "text/x-python",
   "name": "python",
   "nbconvert_exporter": "python",
   "pygments_lexer": "ipython3",
   "version": "3.9.0"
  }
 },
 "nbformat": 4,
 "nbformat_minor": 1
}